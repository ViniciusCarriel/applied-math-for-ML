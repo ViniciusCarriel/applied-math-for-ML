{
 "cells": [
  {
   "cell_type": "markdown",
   "metadata": {},
   "source": [
    "#Data as a matrix\n",
    "\n",
    "As discussed earlier, it is useful to think of a data set as a matrix where each row corresponds to a matrix. This is especially useful if we want to predict something from data, as we often do in machine learning. For example, if we are trying to predict a single scalar value based on a set of inputs, then the inputs correpond to the different columns in our matrix. "
   ]
  },
  {
   "cell_type": "code",
   "execution_count": 1,
   "metadata": {
    "collapsed": false
   },
   "outputs": [
    {
     "name": "stderr",
     "output_type": "stream",
     "text": [
      "Vendor:  Continuum Analytics, Inc.\n",
      "Package: mkl\n",
      "Message: trial mode expires in 28 days\n"
     ]
    }
   ],
   "source": [
    "import pandas as pd\n",
    "import numpy as np\n",
    "\n",
    "import matplotlib.pylab as plt\n",
    "\n",
    "\n",
    "from IPython.display import display, HTML\n",
    "\n",
    "%matplotlib inline"
   ]
  },
  {
   "cell_type": "code",
   "execution_count": 2,
   "metadata": {
    "collapsed": false
   },
   "outputs": [
    {
     "data": {
      "text/html": [
       "<img src=\"./imgs/lecture-4/sample-data.png\" alt=\"Drawing\" style=\"width: 350px;\"/, align = \"left\">"
      ],
      "text/plain": [
       "<IPython.core.display.HTML object>"
      ]
     },
     "metadata": {},
     "output_type": "display_data"
    }
   ],
   "source": [
    "display(HTML('''<img src=\"./imgs/lecture-4/sample-data.png\" alt=\"Drawing\" style=\"width: 350px;\"/, align = \"left\">'''))"
   ]
  },
  {
   "cell_type": "markdown",
   "metadata": {},
   "source": [
    "It is sometimes helpful to visualize a data set in a vector space as shown above. In this view you can think of each sample (each row) as a single dot. Of course, real data usually is not neaetly so linearly structured, but it is almost always somehow structured. The tools we discuss in this class assume that the data are in some hyperplane. "
   ]
  },
  {
   "cell_type": "markdown",
   "metadata": {},
   "source": [
    "# The \"inverse\" problem or \"Ordinary Least Squares\"\n",
    "\n",
    "The forward problem is for a given $\\beta \\in \\mathbb{R}^n$ and $X \\in \\mathbb{R}^{m\\times n}$ to compute $y = X\\beta$ with $y \\in \\mathbb{R}^m$. These operations are fairly straightforward. Things get intersting when we deal with the inverse problem.\n",
    "\n",
    "The inverse problem is for a given $y \\in \\mathbb{R}^m$ and $X \\in \\mathbb{R}^{m\\times n}$  we want to find $\\beta$ so that $y \\approx X\\beta$. Ideally, we want $y = X\\beta$ but often exactly eqaulity is not possible. \n",
    "\n",
    "So we want to find a $\\beta$ that is as *close* as possible to \n",
    "\n",
    "Geometrically, this is what this looks like:"
   ]
  },
  {
   "cell_type": "code",
   "execution_count": 3,
   "metadata": {
    "collapsed": false
   },
   "outputs": [
    {
     "data": {
      "text/html": [
       "<img src=\"./imgs/lecture-4/Linear_least_squares_geometric_interpretation.png\" alt=\"Drawing\" style=\"width: 350px;\"/, align = \"left\">"
      ],
      "text/plain": [
       "<IPython.core.display.HTML object>"
      ]
     },
     "metadata": {},
     "output_type": "display_data"
    }
   ],
   "source": [
    "display(HTML('''<img src=\"./imgs/lecture-4/Linear_least_squares_geometric_interpretation.png\" alt=\"Drawing\" style=\"width: 350px;\"/, align = \"left\">'''))"
   ]
  },
  {
   "cell_type": "markdown",
   "metadata": {},
   "source": [
    "We can think of $y - X\\beta$ as just a vector - sometimes called a \"residual\" or error vector. We want to find a $\\beta$ so that the *magnitude* of the error vector is as small.  We can use the 2-norm as a measure of the magnitude of the error vector. \n",
    "\n",
    "In particular, we want to find a $\\beta$ so that the *squared* of the magntiude is small:\n",
    "\n",
    "$||(y - X\\beta)||_{2}^{2}$\n",
    "\n",
    "We think of this as a **loss function**. The loss function measures how irritated we are that $||(y - X\\beta)||_{2}^{2} \\neq 0$\n",
    "\n",
    "This is equivalent to writing:\n",
    "\n",
    "$L(\\beta) = (y - X\\beta)^{T}(y - X\\beta)^{T}$\n",
    "\n",
    "In short, we would like to find a $\\beta$ that minimizes our loss function $L(\\beta)$. For this, we can use calculus and find the stationary point. This yields the so-called **normal equations**\n",
    "\n",
    "$X^{T}X\\beta = X^{T}y$ \n",
    "\n",
    "If the inverse of $X^{T}X$ exists, then we have\n",
    "\n",
    "$\\beta = (X^{T}X)^{-1}X^{T}y$\n",
    "\n",
    "If the inverse of $X^{T}X$ does *not* exist, then we can use the psuedo-inverse:\n",
    "\n",
    "$\\beta = (X^{T}X)^{+}X^{T}y$"
   ]
  },
  {
   "cell_type": "code",
   "execution_count": 4,
   "metadata": {
    "collapsed": false
   },
   "outputs": [
    {
     "data": {
      "text/html": [
       "<img src=\"./imgs/lecture-4/old-geomteric.png\" alt=\"Drawing\" style=\"width: 450px;\"/, align = \"left\">"
      ],
      "text/plain": [
       "<IPython.core.display.HTML object>"
      ]
     },
     "metadata": {},
     "output_type": "display_data"
    }
   ],
   "source": [
    "display(HTML('''<img src=\"./imgs/lecture-4/old-geomteric.png\" alt=\"Drawing\" style=\"width: 450px;\"/, align = \"left\">'''))"
   ]
  },
  {
   "cell_type": "code",
   "execution_count": 5,
   "metadata": {
    "collapsed": false
   },
   "outputs": [
    {
     "data": {
      "text/plain": [
       "[<matplotlib.lines.Line2D at 0x11b05cf10>]"
      ]
     },
     "execution_count": 5,
     "metadata": {},
     "output_type": "execute_result"
    },
    {
     "data": {
      "image/png": "[encoded data removed]",
      "text/plain": [
       "<matplotlib.figure.Figure at 0x117c64e90>"
      ]
     },
     "metadata": {},
     "output_type": "display_data"
    }
   ],
   "source": [
    "N = 500 # total number of data points\n",
    "x = np.linspace(start = -3, stop = 3, num = N)\n",
    "y_orig =  3.3 + 1.1*x \n",
    "## Add white noise\n",
    "y =  y_orig + .5*np.random.randn(N)\n",
    "plt.plot(x, y, '.')"
   ]
  },
  {
   "cell_type": "code",
   "execution_count": 6,
   "metadata": {
    "collapsed": false
   },
   "outputs": [
    {
     "data": {
      "text/plain": [
       "<matplotlib.contour.QuadContourSet at 0x11b33dc90>"
      ]
     },
     "execution_count": 6,
     "metadata": {},
     "output_type": "execute_result"
    },
    {
     "data": {
      "image/png": "[encoded data removed]",
      "text/plain": [
       "<matplotlib.figure.Figure at 0x11b010290>"
      ]
     },
     "metadata": {},
     "output_type": "display_data"
    }
   ],
   "source": [
    "def loss_func(w0, w1, X, y):\n",
    "    losses = 0\n",
    "    for i in range(X.shape[0]):\n",
    "        losses += (w0 + X[i]*w1 - y[i])**2\n",
    "    return losses\n",
    " \n",
    "w0 = np.arange(-10.0,10.0,0.1)\n",
    "w1 = np.arange(-10.0,10.0,0.1)\n",
    "W0,W1 = plt.meshgrid(w0, w1)\n",
    "Z = loss_func(W0, W1, x, y)\n",
    "plt.contour(W0, W1, Z, levels = np.logspace(0, 8, 20))"
   ]
  },
  {
   "cell_type": "code",
   "execution_count": 7,
   "metadata": {
    "collapsed": true
   },
   "outputs": [],
   "source": [
    "data = np.hstack((np.ones((N,1)), x[:,np.newaxis]))\n",
    "\n",
    "\n",
    "weights = np.dot(np.dot(np.linalg.inv(np.dot(data.T, data)), data.T), y)"
   ]
  },
  {
   "cell_type": "code",
   "execution_count": 8,
   "metadata": {
    "collapsed": false
   },
   "outputs": [
    {
     "data": {
      "text/plain": [
       "0.023890611951872774"
      ]
     },
     "execution_count": 8,
     "metadata": {},
     "output_type": "execute_result"
    }
   ],
   "source": [
    "y_hat = np.dot(data, weights)\n",
    "np.mean(np.sqrt((y_hat - y_orig)**2))"
   ]
  },
  {
   "cell_type": "code",
   "execution_count": 9,
   "metadata": {
    "collapsed": false
   },
   "outputs": [
    {
     "data": {
      "text/plain": [
       "[<matplotlib.lines.Line2D at 0x11c4ae390>]"
      ]
     },
     "execution_count": 9,
     "metadata": {},
     "output_type": "execute_result"
    },
    {
     "data": {
      "image/png": "[encoded data removed]",
      "text/plain": [
       "<matplotlib.figure.Figure at 0x11b08c690>"
      ]
     },
     "metadata": {},
     "output_type": "display_data"
    }
   ],
   "source": [
    "N = 500 # total number of data points\n",
    "x = np.linspace(start = -3, stop = 3, num = N)\n",
    "y_orig =  3.3 + 1.1*x + 2*x**2\n",
    "## Add white noise\n",
    "y =  y_orig + 1*np.random.randn(N)\n",
    "plt.plot(x, y, '.')"
   ]
  },
  {
   "cell_type": "code",
   "execution_count": 10,
   "metadata": {
    "collapsed": false
   },
   "outputs": [
    {
     "data": {
      "text/plain": [
       "4.6372756212443935"
      ]
     },
     "execution_count": 10,
     "metadata": {},
     "output_type": "execute_result"
    },
    {
     "data": {
      "image/png": "[encoded data removed]",
      "text/plain": [
       "<matplotlib.figure.Figure at 0x11b330b10>"
      ]
     },
     "metadata": {},
     "output_type": "display_data"
    }
   ],
   "source": [
    "w0 = np.arange(-10.0,10.0,0.1)\n",
    "w1 = np.arange(-10.0,10.0,0.1)\n",
    "W0,W1 = plt.meshgrid(w0, w1)\n",
    "Z = loss_func(W0, W1, x, y)\n",
    "plt.contour(W0, W1, Z, levels = np.logspace(0, 8, 20))\n",
    "data = np.hstack((np.ones((N,1)), x[:,np.newaxis]))\n",
    "weights = np.dot(np.dot(np.linalg.inv(np.dot(data.T, data)), data.T), y)\n",
    "weights\n",
    "y_hat = np.dot(data, weights)\n",
    "np.mean(np.sqrt((y_hat - y_orig)**2))"
   ]
  },
  {
   "cell_type": "code",
   "execution_count": 11,
   "metadata": {
    "collapsed": false
   },
   "outputs": [
    {
     "data": {
      "text/plain": [
       "0.82641392876917541"
      ]
     },
     "execution_count": 11,
     "metadata": {},
     "output_type": "execute_result"
    }
   ],
   "source": [
    "data = np.hstack((np.ones((N,1)), x[:,np.newaxis],  x[:,np.newaxis]**2,  \n",
    "                  x[:,np.newaxis]**3))\n",
    "weights = np.dot(np.dot(np.linalg.inv(np.dot(data.T, data)), data.T), y)\n",
    "weights\n",
    "y_hat = np.dot(data, weights)\n",
    "np.mean(np.sqrt((y_hat - y)**2))"
   ]
  },
  {
   "cell_type": "code",
   "execution_count": 12,
   "metadata": {
    "collapsed": false
   },
   "outputs": [
    {
     "data": {
      "text/html": [
       "<img src=\"./imgs/lecture-4/too-many-predictors.png\" alt=\"Drawing\" style=\"width: 750px;\"/, align = \"left\">"
      ],
      "text/plain": [
       "<IPython.core.display.HTML object>"
      ]
     },
     "metadata": {},
     "output_type": "display_data"
    }
   ],
   "source": [
    "display(HTML('''<img src=\"./imgs/lecture-4/too-many-predictors.png\" alt=\"Drawing\" style=\"width: 750px;\"/, align = \"left\">'''))"
   ]
  },
  {
   "cell_type": "markdown",
   "metadata": {},
   "source": [
    "# Exercise 1\n",
    "\n",
    "\n",
    "Define **condition number** of a matrix to be the ratio of the largest to smallet singular values. In this exercise we want to explore how the condition number is distributed for random IID matrices. \n",
    "1. Generate 2-by-2 matrix from IID draws from a Normal distribution with mean 0 and standard deviation 1.0 and compute the condition number.\n",
    "2. Repeat step 1 for 1,000 (or more) times and display a histogram of to get a sense for how condition numbers are distributed\n",
    "\n"
   ]
  },
  {
   "cell_type": "code",
   "execution_count": 13,
   "metadata": {
    "collapsed": false
   },
   "outputs": [
    {
     "name": "stdout",
     "output_type": "stream",
     "text": [
      "CPU times: user 111 ms, sys: 6.26 ms, total: 117 ms\n",
      "Wall time: 29.7 ms\n"
     ]
    }
   ],
   "source": [
    "%%time \n",
    "\n",
    "d = 2\n",
    "N = 1000\n",
    "cond_nums = np.zeros(N)\n",
    "for i in range(N):\n",
    "    A = np.random.randn(d,d)\n",
    "    _,s,_ = np.linalg.svd(A)\n",
    "    cond_num = s[0]/s[-1]\n",
    "    cond_nums[i] = cond_num"
   ]
  },
  {
   "cell_type": "code",
   "execution_count": 14,
   "metadata": {
    "collapsed": false
   },
   "outputs": [
    {
     "data": {
      "image/png": "[encoded data removed]",
      "text/plain": [
       "<matplotlib.figure.Figure at 0x11b3c9390>"
      ]
     },
     "metadata": {},
     "output_type": "display_data"
    }
   ],
   "source": [
    "plt.hist(cond_nums, bins=100);"
   ]
  },
  {
   "cell_type": "code",
   "execution_count": 15,
   "metadata": {
    "collapsed": false
   },
   "outputs": [
    {
     "data": {
      "image/png": "[encoded data removed]",
      "text/plain": [
       "<matplotlib.figure.Figure at 0x11b0b5890>"
      ]
     },
     "metadata": {},
     "output_type": "display_data"
    }
   ],
   "source": [
    "plt.hist(np.log10(cond_nums), bins=100);"
   ]
  },
  {
   "cell_type": "code",
   "execution_count": 16,
   "metadata": {
    "collapsed": false
   },
   "outputs": [
    {
     "data": {
      "text/plain": [
       "(0.65820125026039589, 0.54686707766434473)"
      ]
     },
     "execution_count": 16,
     "metadata": {},
     "output_type": "execute_result"
    }
   ],
   "source": [
    "np.mean(np.log10(cond_nums)), np.median(np.log10(cond_nums))"
   ]
  },
  {
   "cell_type": "markdown",
   "metadata": {},
   "source": [
    "\n",
    "# Exercise 2\n",
    "\n",
    "\n",
    "Repeat exercise 1 but for\n",
    "- 5-by-5 matrices\n",
    "- 10-by-10\n",
    "- 100-by-100\n",
    "- *Optional:* create a boxplot for each of the cases so that you can show how the distributions vary for each case. A good resource for making visualizations in Python is: https://python-graph-gallery.com"
   ]
  },
  {
   "cell_type": "code",
   "execution_count": 17,
   "metadata": {
    "collapsed": true
   },
   "outputs": [],
   "source": [
    "def get_cond_nums(dim, num_samples):\n",
    "    d = dim\n",
    "    N = num_samples\n",
    "    cond_nums = np.zeros(N)\n",
    "    for i in range(N):\n",
    "        A = np.random.randn(d,d)\n",
    "        _,s,_ = np.linalg.svd(A)\n",
    "        cond_num = s[0]/s[-1]\n",
    "        cond_nums[i] = cond_num\n",
    "        \n",
    "    return cond_nums"
   ]
  },
  {
   "cell_type": "code",
   "execution_count": 18,
   "metadata": {
    "collapsed": false
   },
   "outputs": [],
   "source": [
    "dimensions = [5, 10, 100]\n",
    "\n",
    "N = 1000\n",
    "\n",
    "condition_numbers = {}\n",
    "\n",
    "for dimension in dimensions:\n",
    "    condition_numbers[dimension] = get_cond_nums(dim = dimension, num_samples = N)"
   ]
  },
  {
   "cell_type": "code",
   "execution_count": 19,
   "metadata": {
    "collapsed": true
   },
   "outputs": [],
   "source": [
    "df_cond_nums = pd.DataFrame.from_dict(condition_numbers, orient='index')\n",
    "df_cond_nums[\"dimension\"] = df_cond_nums.index"
   ]
  },
  {
   "cell_type": "code",
   "execution_count": 20,
   "metadata": {
    "collapsed": false
   },
   "outputs": [],
   "source": [
    "df_cond_nums_melt = pd.melt(df_cond_nums, id_vars= \"dimension\")"
   ]
  },
  {
   "cell_type": "code",
   "execution_count": 21,
   "metadata": {
    "collapsed": false
   },
   "outputs": [
    {
     "data": {
      "text/html": [
       "<div>\n",
       "<table border=\"1\" class=\"dataframe\">\n",
       "  <thead>\n",
       "    <tr style=\"text-align: right;\">\n",
       "      <th></th>\n",
       "      <th>dimension</th>\n",
       "      <th>variable</th>\n",
       "      <th>value</th>\n",
       "    </tr>\n",
       "  </thead>\n",
       "  <tbody>\n",
       "    <tr>\n",
       "      <th>0</th>\n",
       "      <td>10</td>\n",
       "      <td>0</td>\n",
       "      <td>21.503514</td>\n",
       "    </tr>\n",
       "    <tr>\n",
       "      <th>1</th>\n",
       "      <td>100</td>\n",
       "      <td>0</td>\n",
       "      <td>849.315323</td>\n",
       "    </tr>\n",
       "    <tr>\n",
       "      <th>2</th>\n",
       "      <td>5</td>\n",
       "      <td>0</td>\n",
       "      <td>30.580423</td>\n",
       "    </tr>\n",
       "    <tr>\n",
       "      <th>3</th>\n",
       "      <td>10</td>\n",
       "      <td>1</td>\n",
       "      <td>15.754252</td>\n",
       "    </tr>\n",
       "    <tr>\n",
       "      <th>4</th>\n",
       "      <td>100</td>\n",
       "      <td>1</td>\n",
       "      <td>253.384913</td>\n",
       "    </tr>\n",
       "  </tbody>\n",
       "</table>\n",
       "</div>"
      ],
      "text/plain": [
       "   dimension variable       value\n",
       "0         10        0   21.503514\n",
       "1        100        0  849.315323\n",
       "2          5        0   30.580423\n",
       "3         10        1   15.754252\n",
       "4        100        1  253.384913"
      ]
     },
     "execution_count": 21,
     "metadata": {},
     "output_type": "execute_result"
    }
   ],
   "source": [
    "df_cond_nums_melt.head()"
   ]
  },
  {
   "cell_type": "code",
   "execution_count": 22,
   "metadata": {
    "collapsed": true
   },
   "outputs": [],
   "source": [
    "df_cond_nums_melt.value = np.log10(df_cond_nums_melt.value)"
   ]
  },
  {
   "cell_type": "code",
   "execution_count": 23,
   "metadata": {
    "collapsed": false
   },
   "outputs": [
    {
     "data": {
      "text/html": [
       "<div>\n",
       "<table border=\"1\" class=\"dataframe\">\n",
       "  <thead>\n",
       "    <tr style=\"text-align: right;\">\n",
       "      <th></th>\n",
       "      <th>value</th>\n",
       "    </tr>\n",
       "    <tr>\n",
       "      <th>dimension</th>\n",
       "      <th></th>\n",
       "    </tr>\n",
       "  </thead>\n",
       "  <tbody>\n",
       "    <tr>\n",
       "      <th>5</th>\n",
       "      <td>1.150467</td>\n",
       "    </tr>\n",
       "    <tr>\n",
       "      <th>10</th>\n",
       "      <td>1.494918</td>\n",
       "    </tr>\n",
       "    <tr>\n",
       "      <th>100</th>\n",
       "      <td>2.548129</td>\n",
       "    </tr>\n",
       "  </tbody>\n",
       "</table>\n",
       "</div>"
      ],
      "text/plain": [
       "              value\n",
       "dimension          \n",
       "5          1.150467\n",
       "10         1.494918\n",
       "100        2.548129"
      ]
     },
     "execution_count": 23,
     "metadata": {},
     "output_type": "execute_result"
    }
   ],
   "source": [
    "df_cond_nums_melt.groupby(\"dimension\").agg(np.median)"
   ]
  },
  {
   "cell_type": "markdown",
   "metadata": {},
   "source": [
    "# Exercise 3 \n",
    "\n",
    "Repeat exercise 2 but modify each matrix generated to be duplicated horizontally. So if you generated a matrix $A \\in \\mathbb{R}^{n\\times n}$, modify this matrix to $B = \n",
    "\\begin{bmatrix}\n",
    "A & A\n",
    "\\end{bmatrix}$"
   ]
  },
  {
   "cell_type": "code",
   "execution_count": 24,
   "metadata": {
    "collapsed": true
   },
   "outputs": [],
   "source": [
    "def get_cond_nums_ex3(dim, num_samples):\n",
    "    d = dim\n",
    "    N = num_samples\n",
    "    cond_nums = np.zeros(N)\n",
    "    for i in range(N):\n",
    "        A = np.random.randn(d,d)\n",
    "        B = np.hstack((A,A))\n",
    "        _,s,_ = np.linalg.svd(B)\n",
    "        cond_num = s[0]/s[-1]\n",
    "        cond_nums[i] = cond_num\n",
    "        \n",
    "    return cond_nums"
   ]
  },
  {
   "cell_type": "code",
   "execution_count": 25,
   "metadata": {
    "collapsed": false
   },
   "outputs": [
    {
     "data": {
      "text/html": [
       "<div>\n",
       "<table border=\"1\" class=\"dataframe\">\n",
       "  <thead>\n",
       "    <tr style=\"text-align: right;\">\n",
       "      <th></th>\n",
       "      <th>value</th>\n",
       "    </tr>\n",
       "    <tr>\n",
       "      <th>dimension</th>\n",
       "      <th></th>\n",
       "    </tr>\n",
       "  </thead>\n",
       "  <tbody>\n",
       "    <tr>\n",
       "      <th>5</th>\n",
       "      <td>1.114990</td>\n",
       "    </tr>\n",
       "    <tr>\n",
       "      <th>10</th>\n",
       "      <td>1.491299</td>\n",
       "    </tr>\n",
       "    <tr>\n",
       "      <th>100</th>\n",
       "      <td>2.534196</td>\n",
       "    </tr>\n",
       "  </tbody>\n",
       "</table>\n",
       "</div>"
      ],
      "text/plain": [
       "              value\n",
       "dimension          \n",
       "5          1.114990\n",
       "10         1.491299\n",
       "100        2.534196"
      ]
     },
     "execution_count": 25,
     "metadata": {},
     "output_type": "execute_result"
    }
   ],
   "source": [
    "dimensions = [5, 10, 100]\n",
    "\n",
    "N = 1000\n",
    "\n",
    "condition_numbers = {}\n",
    "\n",
    "for dimension in dimensions:\n",
    "    condition_numbers[dimension] = get_cond_nums_ex3(dim = dimension, num_samples = N)\n",
    "    \n",
    "df_cond_nums = pd.DataFrame.from_dict(condition_numbers, orient='index')\n",
    "df_cond_nums[\"dimension\"] = df_cond_nums.index \n",
    "\n",
    "df_cond_nums_melt = pd.melt(df_cond_nums, id_vars= \"dimension\")\n",
    "df_cond_nums_melt.value = np.log10(df_cond_nums_melt.value)\n",
    "\n",
    "df_cond_nums_melt.groupby(\"dimension\").agg(np.median)"
   ]
  },
  {
   "cell_type": "markdown",
   "metadata": {},
   "source": [
    "# Exercise 3a"
   ]
  },
  {
   "cell_type": "code",
   "execution_count": 26,
   "metadata": {
    "collapsed": true
   },
   "outputs": [],
   "source": [
    "def get_cond_nums_ex3a(dim, num_samples, sig = .1):\n",
    "    d = dim\n",
    "    N = num_samples\n",
    "    cond_nums = np.zeros(N)\n",
    "    for i in range(N):\n",
    "        A = np.random.randn(100,d)\n",
    "        _,s,_ = np.linalg.svd(A)\n",
    "        cond_num = s[0]/s[-1]\n",
    "        #cond_num = np.max(s)/np.min(s)\n",
    "        cond_nums[i] = cond_num\n",
    "        \n",
    "    return cond_nums"
   ]
  },
  {
   "cell_type": "code",
   "execution_count": 27,
   "metadata": {
    "collapsed": false
   },
   "outputs": [
    {
     "data": {
      "text/html": [
       "<div>\n",
       "<table border=\"1\" class=\"dataframe\">\n",
       "  <thead>\n",
       "    <tr style=\"text-align: right;\">\n",
       "      <th></th>\n",
       "      <th>value</th>\n",
       "    </tr>\n",
       "    <tr>\n",
       "      <th>dimension</th>\n",
       "      <th></th>\n",
       "    </tr>\n",
       "  </thead>\n",
       "  <tbody>\n",
       "    <tr>\n",
       "      <th>100</th>\n",
       "      <td>2.557550</td>\n",
       "    </tr>\n",
       "    <tr>\n",
       "      <th>110</th>\n",
       "      <td>1.524005</td>\n",
       "    </tr>\n",
       "    <tr>\n",
       "      <th>140</th>\n",
       "      <td>1.027926</td>\n",
       "    </tr>\n",
       "    <tr>\n",
       "      <th>190</th>\n",
       "      <td>0.767631</td>\n",
       "    </tr>\n",
       "    <tr>\n",
       "      <th>200</th>\n",
       "      <td>0.737167</td>\n",
       "    </tr>\n",
       "  </tbody>\n",
       "</table>\n",
       "</div>"
      ],
      "text/plain": [
       "              value\n",
       "dimension          \n",
       "100        2.557550\n",
       "110        1.524005\n",
       "140        1.027926\n",
       "190        0.767631\n",
       "200        0.737167"
      ]
     },
     "execution_count": 27,
     "metadata": {},
     "output_type": "execute_result"
    }
   ],
   "source": [
    "dimensions = [100, 110, 140, 190,200]\n",
    "\n",
    "N = 1000\n",
    "\n",
    "condition_numbers = {}\n",
    "\n",
    "for dimension in dimensions:\n",
    "    condition_numbers[dimension] = get_cond_nums_ex3a(dim = dimension, num_samples = N)\n",
    "    \n",
    "df_cond_nums = pd.DataFrame.from_dict(condition_numbers, orient='index')\n",
    "df_cond_nums[\"dimension\"] = df_cond_nums.index \n",
    "\n",
    "df_cond_nums_melt = pd.melt(df_cond_nums, id_vars= \"dimension\")\n",
    "df_cond_nums_melt.value = np.log10(df_cond_nums_melt.value)\n",
    "\n",
    "df_cond_nums_melt.groupby(\"dimension\").agg(np.median)"
   ]
  },
  {
   "cell_type": "markdown",
   "metadata": {},
   "source": [
    "# Exercise 3b"
   ]
  },
  {
   "cell_type": "code",
   "execution_count": 28,
   "metadata": {
    "collapsed": true
   },
   "outputs": [],
   "source": [
    "def get_cond_nums_ex3b(dim, num_samples, sig = .1):\n",
    "    d = dim\n",
    "    N = num_samples\n",
    "    cond_nums = np.zeros(N)\n",
    "    for i in range(N):\n",
    "        A = np.random.randn(d,d)\n",
    "        B = np.hstack((A,A + sig*np.random.randn(d,d)))\n",
    "        _,s,_ = np.linalg.svd(B)\n",
    "        cond_num = s[0]/s[-1]\n",
    "        cond_nums[i] = cond_num\n",
    "        \n",
    "    return cond_nums"
   ]
  },
  {
   "cell_type": "code",
   "execution_count": 29,
   "metadata": {
    "collapsed": false
   },
   "outputs": [
    {
     "data": {
      "text/html": [
       "<div>\n",
       "<table border=\"1\" class=\"dataframe\">\n",
       "  <thead>\n",
       "    <tr style=\"text-align: right;\">\n",
       "      <th></th>\n",
       "      <th>value</th>\n",
       "    </tr>\n",
       "    <tr>\n",
       "      <th>dimension</th>\n",
       "      <th></th>\n",
       "    </tr>\n",
       "  </thead>\n",
       "  <tbody>\n",
       "    <tr>\n",
       "      <th>5</th>\n",
       "      <td>1.123585</td>\n",
       "    </tr>\n",
       "    <tr>\n",
       "      <th>10</th>\n",
       "      <td>1.370268</td>\n",
       "    </tr>\n",
       "    <tr>\n",
       "      <th>100</th>\n",
       "      <td>1.615521</td>\n",
       "    </tr>\n",
       "  </tbody>\n",
       "</table>\n",
       "</div>"
      ],
      "text/plain": [
       "              value\n",
       "dimension          \n",
       "5          1.123585\n",
       "10         1.370268\n",
       "100        1.615521"
      ]
     },
     "execution_count": 29,
     "metadata": {},
     "output_type": "execute_result"
    }
   ],
   "source": [
    "dimensions = [5, 10, 100]\n",
    "\n",
    "N = 1000\n",
    "\n",
    "condition_numbers = {}\n",
    "\n",
    "for dimension in dimensions:\n",
    "    condition_numbers[dimension] = get_cond_nums_ex3b(dim = dimension, num_samples = N)\n",
    "    \n",
    "df_cond_nums = pd.DataFrame.from_dict(condition_numbers, orient='index')\n",
    "df_cond_nums[\"dimension\"] = df_cond_nums.index \n",
    "\n",
    "df_cond_nums_melt = pd.melt(df_cond_nums, id_vars= \"dimension\")\n",
    "df_cond_nums_melt.value = np.log10(df_cond_nums_melt.value)\n",
    "\n",
    "df_cond_nums_melt.groupby(\"dimension\").agg(np.median)"
   ]
  },
  {
   "cell_type": "markdown",
   "metadata": {},
   "source": [
    "## Exercise 4\n",
    "\n",
    "Repeat exercise 2 for the 100-by-100 matrix but apply a smoothing function to each row for each of the matrices you generated. The smoothing function can be a simple \"moving average window\" filter."
   ]
  },
  {
   "cell_type": "code",
   "execution_count": 81,
   "metadata": {
    "collapsed": false
   },
   "outputs": [
    {
     "data": {
      "image/png": "[encoded data removed]",
      "text/plain": [
       "<matplotlib.figure.Figure at 0x125716310>"
      ]
     },
     "metadata": {},
     "output_type": "display_data"
    }
   ],
   "source": [
    "from scipy.linalg import toeplitz\n",
    "\n",
    "\n",
    "def get_correlated_matrix(d, window_length):\n",
    "    first_row = np.hstack((np.ones(window_length), np.zeros(d - window_length)))\n",
    "    first_col = np.zeros(d)\n",
    "    first_col[0] = 1\n",
    "\n",
    "    moving_avg = 1./window_length * toeplitz(first_col, first_row)\n",
    "\n",
    "    matrix_rows = np.zeros((d,d))\n",
    "    for i in range(d):\n",
    "        x = np.random.randn(d,1)\n",
    "        matrix_rows[i,:] = np.dot(moving_avg, x).T\n",
    "\n",
    "    return matrix_rows\n",
    "\n",
    "N = 1000\n",
    "cond_nums = np.zeros(N)\n",
    "window_length = 5\n",
    "for i in range(N):\n",
    "    A = get_correlated_matrix(100, window_length)\n",
    "    _,s,_ = np.linalg.svd(A)\n",
    "    cond_num = s[0]/s[-1]\n",
    "    cond_nums[i] = cond_num\n",
    "plt.hist(np.log10(cond_nums), bins=100);"
   ]
  },
  {
   "cell_type": "code",
   "execution_count": 89,
   "metadata": {
    "collapsed": false
   },
   "outputs": [
    {
     "data": {
      "text/plain": [
       "3.7947379018317657"
      ]
     },
     "execution_count": 89,
     "metadata": {},
     "output_type": "execute_result"
    }
   ],
   "source": [
    "np.mean(np.log10(cond_nums))"
   ]
  },
  {
   "cell_type": "markdown",
   "metadata": {},
   "source": [
    "#AirBnB  OLS"
   ]
  },
  {
   "cell_type": "code",
   "execution_count": 30,
   "metadata": {
    "collapsed": true
   },
   "outputs": [],
   "source": [
    "df = pd.read_csv(\"./data/sd-airbnb-listings.csv\")\n",
    "df[\"price\"] = df[\"price\"].replace( '[\\$,)]','', regex=True).astype(float)"
   ]
  },
  {
   "cell_type": "code",
   "execution_count": 31,
   "metadata": {
    "collapsed": true
   },
   "outputs": [],
   "source": [
    "df_mini = df[['review_scores_rating',\n",
    "       u'review_scores_accuracy', u'review_scores_cleanliness',\n",
    "       u'review_scores_checkin', u'review_scores_communication',\n",
    "       u'review_scores_location', u'review_scores_value', 'square_feet', 'price']]\n",
    "\n",
    "df_clean= df_mini.dropna()"
   ]
  },
  {
   "cell_type": "code",
   "execution_count": 32,
   "metadata": {
    "collapsed": false
   },
   "outputs": [
    {
     "data": {
      "image/png": "[encoded data removed]",
      "text/plain": [
       "<matplotlib.figure.Figure at 0x126291dd0>"
      ]
     },
     "metadata": {},
     "output_type": "display_data"
    }
   ],
   "source": [
    "y = np.array(df_clean.price)\n",
    "A = np.array(df_clean.iloc[:,:-1])\n",
    "\n",
    "weights = np.dot(np.linalg.pinv(A),np.log10(y))\n",
    "\n",
    "y_hat = np.dot(A,weights)\n",
    "\n",
    "plt.plot(range(y_hat.shape[0]), np.abs(10**y_hat - y), '.');"
   ]
  },
  {
   "cell_type": "code",
   "execution_count": 33,
   "metadata": {
    "collapsed": false
   },
   "outputs": [
    {
     "data": {
      "text/plain": [
       "130.19225666076923"
      ]
     },
     "execution_count": 33,
     "metadata": {},
     "output_type": "execute_result"
    }
   ],
   "source": [
    "np.mean(np.abs(10**y_hat - y))"
   ]
  },
  {
   "cell_type": "code",
   "execution_count": 34,
   "metadata": {
    "collapsed": false
   },
   "outputs": [
    {
     "data": {
      "text/plain": [
       "[<matplotlib.lines.Line2D at 0x1219be850>]"
      ]
     },
     "execution_count": 34,
     "metadata": {},
     "output_type": "execute_result"
    },
    {
     "data": {
      "image/png": "[encoded data removed]",
      "text/plain": [
       "<matplotlib.figure.Figure at 0x11d876950>"
      ]
     },
     "metadata": {},
     "output_type": "display_data"
    }
   ],
   "source": [
    "plt.plot(weights)"
   ]
  },
  {
   "cell_type": "code",
   "execution_count": 35,
   "metadata": {
    "collapsed": false
   },
   "outputs": [
    {
     "name": "stderr",
     "output_type": "stream",
     "text": [
      "/Users/myazdaniUCSD/anaconda/lib/python2.7/site-packages/pandas/core/generic.py:2701: SettingWithCopyWarning: \n",
      "A value is trying to be set on a copy of a slice from a DataFrame.\n",
      "Try using .loc[row_indexer,col_indexer] = value instead\n",
      "\n",
      "See the caveats in the documentation: http://pandas.pydata.org/pandas-docs/stable/indexing.html#indexing-view-versus-copy\n",
      "  self[name] = value\n"
     ]
    }
   ],
   "source": [
    "df_clean.square_feet = np.log10(1+df_clean.square_feet)"
   ]
  },
  {
   "cell_type": "code",
   "execution_count": 36,
   "metadata": {
    "collapsed": false
   },
   "outputs": [
    {
     "data": {
      "text/plain": [
       "126.04129468689042"
      ]
     },
     "execution_count": 36,
     "metadata": {},
     "output_type": "execute_result"
    }
   ],
   "source": [
    "y = np.array(df_clean.price)\n",
    "A = np.array(df_clean.iloc[:,:-1])\n",
    "\n",
    "weights = np.dot(np.linalg.pinv(A),np.log10(y))\n",
    "\n",
    "y_hat = np.dot(A,weights)\n",
    "\n",
    "np.mean(np.abs(10**y_hat - y))"
   ]
  },
  {
   "cell_type": "code",
   "execution_count": 37,
   "metadata": {
    "collapsed": false
   },
   "outputs": [
    {
     "data": {
      "text/plain": [
       "[<matplotlib.lines.Line2D at 0x11d830f10>]"
      ]
     },
     "execution_count": 37,
     "metadata": {},
     "output_type": "execute_result"
    },
    {
     "data": {
      "image/png": "[encoded data removed]",
      "text/plain": [
       "<matplotlib.figure.Figure at 0x11db0b690>"
      ]
     },
     "metadata": {},
     "output_type": "display_data"
    }
   ],
   "source": [
    "plt.plot(weights)"
   ]
  },
  {
   "cell_type": "code",
   "execution_count": 38,
   "metadata": {
    "collapsed": false
   },
   "outputs": [],
   "source": [
    "means = np.mean(A, axis = 0)"
   ]
  },
  {
   "cell_type": "code",
   "execution_count": 39,
   "metadata": {
    "collapsed": true
   },
   "outputs": [],
   "source": [
    "A_centered = A - means"
   ]
  },
  {
   "cell_type": "code",
   "execution_count": 40,
   "metadata": {
    "collapsed": false
   },
   "outputs": [
    {
     "data": {
      "text/plain": [
       "123.92894791645296"
      ]
     },
     "execution_count": 40,
     "metadata": {},
     "output_type": "execute_result"
    }
   ],
   "source": [
    "A_ones = np.hstack((np.ones((df_clean.shape[0],1)), A_centered))\n",
    "\n",
    "weights = np.dot(np.linalg.pinv(A_ones),np.log10(y))\n",
    "\n",
    "y_hat = np.dot(A_ones,weights)\n",
    "\n",
    "np.mean(np.abs(10**y_hat - y))"
   ]
  },
  {
   "cell_type": "markdown",
   "metadata": {},
   "source": [
    "## Bootstrapped error estimation"
   ]
  },
  {
   "cell_type": "code",
   "execution_count": 41,
   "metadata": {
    "collapsed": true
   },
   "outputs": [],
   "source": [
    "indx = np.random.randint(0, A_ones.shape[0], size = A_ones.shape[0])"
   ]
  },
  {
   "cell_type": "code",
   "execution_count": 42,
   "metadata": {
    "collapsed": false
   },
   "outputs": [
    {
     "data": {
      "text/plain": [
       "(94, 9)"
      ]
     },
     "execution_count": 42,
     "metadata": {},
     "output_type": "execute_result"
    }
   ],
   "source": [
    "A_ones[indx,:].shape"
   ]
  },
  {
   "cell_type": "code",
   "execution_count": 43,
   "metadata": {
    "collapsed": true
   },
   "outputs": [],
   "source": [
    "def get_weights():\n",
    "    A_ones = np.hstack((np.ones((df_clean.shape[0],1)), A_centered))\n",
    "    \n",
    "    indx = np.random.randint(0, A_ones.shape[0], size = A_ones.shape[0])    \n",
    "    A_ones_samples = A_ones[indx,:]\n",
    "\n",
    "    weights = np.dot(np.linalg.pinv(A_ones_samples),np.log10(y))\n",
    "    \n",
    "    y_hat = np.dot(A_ones,weights)\n",
    "\n",
    "    return np.mean(np.abs(10**y_hat - y)), weights"
   ]
  },
  {
   "cell_type": "code",
   "execution_count": 44,
   "metadata": {
    "collapsed": true
   },
   "outputs": [],
   "source": [
    "mae, sampled_weights = get_weights()"
   ]
  },
  {
   "cell_type": "code",
   "execution_count": 45,
   "metadata": {
    "collapsed": false
   },
   "outputs": [],
   "source": [
    "maes = np.zeros((100,1))\n",
    "sampled_weights = np.zeros((100, weights.shape[0]))\n",
    "\n",
    "for i in range(100):\n",
    "    maes[i], sampled_weights[i,:] = get_weights()"
   ]
  },
  {
   "cell_type": "code",
   "execution_count": 46,
   "metadata": {
    "collapsed": false
   },
   "outputs": [
    {
     "data": {
      "text/plain": [
       "[<matplotlib.lines.Line2D at 0x11d940a50>]"
      ]
     },
     "execution_count": 46,
     "metadata": {},
     "output_type": "execute_result"
    },
    {
     "data": {
      "image/png": "[encoded data removed]",
      "text/plain": [
       "<matplotlib.figure.Figure at 0x11d857e50>"
      ]
     },
     "metadata": {},
     "output_type": "display_data"
    }
   ],
   "source": [
    "plt.plot(maes)"
   ]
  },
  {
   "cell_type": "code",
   "execution_count": 47,
   "metadata": {
    "collapsed": true
   },
   "outputs": [],
   "source": [
    "avg_weights = np.mean(sampled_weights,axis = 0)\n",
    "sd_weights = np.std(sampled_weights, axis=0)"
   ]
  },
  {
   "cell_type": "code",
   "execution_count": 48,
   "metadata": {
    "collapsed": false
   },
   "outputs": [
    {
     "data": {
      "text/plain": [
       "[<matplotlib.lines.Line2D at 0x11d3868d0>]"
      ]
     },
     "execution_count": 48,
     "metadata": {},
     "output_type": "execute_result"
    },
    {
     "data": {
      "image/png": "[encoded data removed]",
      "text/plain": [
       "<matplotlib.figure.Figure at 0x11db3d590>"
      ]
     },
     "metadata": {},
     "output_type": "display_data"
    }
   ],
   "source": [
    "plt.plot(sd_weights)"
   ]
  },
  {
   "cell_type": "code",
   "execution_count": 49,
   "metadata": {
    "collapsed": false
   },
   "outputs": [
    {
     "data": {
      "text/plain": [
       "[<matplotlib.lines.Line2D at 0x1263d7750>]"
      ]
     },
     "execution_count": 49,
     "metadata": {},
     "output_type": "execute_result"
    },
    {
     "data": {
      "image/png": "[encoded data removed]",
      "text/plain": [
       "<matplotlib.figure.Figure at 0x11d572e50>"
      ]
     },
     "metadata": {},
     "output_type": "display_data"
    }
   ],
   "source": [
    "plt.plot(avg_weights)"
   ]
  },
  {
   "cell_type": "markdown",
   "metadata": {},
   "source": [
    "## Ridge Regression\n",
    "\n",
    "Having weights to be too large can be undesriable. This yields to one feature having more influence than it should. Ridge regression or \"tikhonov\" regularization\" is a way to deal with this issue\n",
    "\n",
    "$L(\\beta) = (y - X\\beta)^{T}(y - X\\beta)^{T} + \\lambda ||\\beta||_{2}^{2}$\n",
    "\n",
    "$\\beta = (X^{T}X + \\lambda I)^{+}X^{T}y$"
   ]
  },
  {
   "cell_type": "code",
   "execution_count": 50,
   "metadata": {
    "collapsed": false
   },
   "outputs": [
    {
     "data": {
      "text/html": [
       "<img src=\"./imgs/lecture-4/ridge_regression_geomteric.png\" alt=\"Drawing\" style=\"width: 350px;\"/, align = \"left\">"
      ],
      "text/plain": [
       "<IPython.core.display.HTML object>"
      ]
     },
     "metadata": {},
     "output_type": "display_data"
    }
   ],
   "source": [
    "display(HTML('''<img src=\"./imgs/lecture-4/ridge_regression_geomteric.png\" alt=\"Drawing\" style=\"width: 350px;\"/, align = \"left\">'''))"
   ]
  },
  {
   "cell_type": "markdown",
   "metadata": {},
   "source": [
    "## Airbnb Ridge Regression"
   ]
  },
  {
   "cell_type": "code",
   "execution_count": 51,
   "metadata": {
    "collapsed": false
   },
   "outputs": [
    {
     "data": {
      "text/plain": [
       "[<matplotlib.lines.Line2D at 0x114a33950>]"
      ]
     },
     "execution_count": 51,
     "metadata": {},
     "output_type": "execute_result"
    },
    {
     "data": {
      "image/png": "[encoded data removed]",
      "text/plain": [
       "<matplotlib.figure.Figure at 0x11c854150>"
      ]
     },
     "metadata": {},
     "output_type": "display_data"
    }
   ],
   "source": [
    "tikhnov = np.zeros((9,9))\n",
    "tikhnov[0,0] = 1\n",
    "weights = np.dot(np.dot(np.linalg.inv(np.dot(A_ones.T,A_ones) + 40e1*tikhnov), A_ones.T), np.log10(y))\n",
    "y_hat = np.dot(A_ones,weights)\n",
    "\n",
    "np.mean(np.abs(10**y_hat - y))\n",
    "plt.plot(weights)"
   ]
  },
  {
   "cell_type": "markdown",
   "metadata": {},
   "source": [
    "## Gradient Descent "
   ]
  },
  {
   "cell_type": "code",
   "execution_count": 52,
   "metadata": {
    "collapsed": false
   },
   "outputs": [
    {
     "data": {
      "text/plain": [
       "[<matplotlib.lines.Line2D at 0x11c84b650>]"
      ]
     },
     "execution_count": 52,
     "metadata": {},
     "output_type": "execute_result"
    },
    {
     "data": {
      "image/png": "[encoded data removed]",
      "text/plain": [
       "<matplotlib.figure.Figure at 0x11c854c90>"
      ]
     },
     "metadata": {},
     "output_type": "display_data"
    }
   ],
   "source": [
    "N = 500 # total number of data points\n",
    "x = np.linspace(start = -3, stop = 3, num = N)\n",
    "y_orig =  3.3 -1.1*x \n",
    "## Add white noise\n",
    "y =  y_orig + 1*np.random.randn(N)\n",
    "plt.plot(x, y, '.')"
   ]
  },
  {
   "cell_type": "code",
   "execution_count": 53,
   "metadata": {
    "collapsed": true
   },
   "outputs": [],
   "source": [
    "from sklearn.model_selection import train_test_split\n",
    "X_train, X_test, y_train, y_test = train_test_split(x, y, test_size=0.33, random_state=42)\n",
    "\n",
    "X_train, X_val, y_train, y_val = train_test_split(X_train, y_train, test_size=0.33, random_state=42)"
   ]
  },
  {
   "cell_type": "code",
   "execution_count": 54,
   "metadata": {
    "collapsed": false
   },
   "outputs": [
    {
     "data": {
      "text/plain": [
       "[<matplotlib.lines.Line2D at 0x12538cc10>]"
      ]
     },
     "execution_count": 54,
     "metadata": {},
     "output_type": "execute_result"
    },
    {
     "data": {
      "image/png": "[encoded data removed]",
      "text/plain": [
       "<matplotlib.figure.Figure at 0x11c79ec10>"
      ]
     },
     "metadata": {},
     "output_type": "display_data"
    }
   ],
   "source": [
    "plt.plot(X_train, y_train, 'g.')\n",
    "plt.plot(X_val, y_val, 'r.')\n",
    "plt.plot(X_test, y_test, 'b.')"
   ]
  },
  {
   "cell_type": "code",
   "execution_count": 55,
   "metadata": {
    "collapsed": false
   },
   "outputs": [
    {
     "data": {
      "text/plain": [
       "[<matplotlib.lines.Line2D at 0x125418050>]"
      ]
     },
     "execution_count": 55,
     "metadata": {},
     "output_type": "execute_result"
    },
    {
     "data": {
      "image/png": "[encoded data removed]",
      "text/plain": [
       "<matplotlib.figure.Figure at 0x125316350>"
      ]
     },
     "metadata": {},
     "output_type": "display_data"
    }
   ],
   "source": [
    "w = np.random.randn(2,1)\n",
    "\n",
    "num_iter = 1000\n",
    "weights = []\n",
    "weights.append(w)\n",
    "\n",
    "\n",
    "def mse(w, X, y):\n",
    "    return np.sum((y - w[0,0]-w[1,0]*X)**2)\n",
    "\n",
    "loss = mse(w, X_train[:,np.newaxis], y_train)\n",
    "losses = []\n",
    "losses.append(loss)\n",
    "for i in range(num_iter):\n",
    "    w_new = w + .01*np.random.randn(2,1)\n",
    "    new_loss = mse(w_new, X_train[:,np.newaxis], y_train)\n",
    "    if new_loss < loss:\n",
    "        loss = new_loss\n",
    "        w = w_new\n",
    "        weights.append(w)\n",
    "        losses.append(loss)\n",
    "        \n",
    "weights = np.array(weights).squeeze()\n",
    "plt.plot(losses)\n"
   ]
  },
  {
   "cell_type": "code",
   "execution_count": 56,
   "metadata": {
    "collapsed": false
   },
   "outputs": [
    {
     "data": {
      "text/plain": [
       "[<matplotlib.lines.Line2D at 0x12661de90>]"
      ]
     },
     "execution_count": 56,
     "metadata": {},
     "output_type": "execute_result"
    },
    {
     "data": {
      "image/png": "[encoded data removed]",
      "text/plain": [
       "<matplotlib.figure.Figure at 0x125407a50>"
      ]
     },
     "metadata": {},
     "output_type": "display_data"
    }
   ],
   "source": [
    "def loss_func(w0, w1, X, y):\n",
    "    losses = 0\n",
    "    for i in range(X.shape[0]):\n",
    "        losses += (w0 + X[i]*w1 - y[i])**2\n",
    "    return losses\n",
    " \n",
    "w0 = np.arange(-10.0,10.0,0.1)\n",
    "w1 = np.arange(-10.0,10.0,0.1)\n",
    "W0,W1 = plt.meshgrid(w0, w1)\n",
    "Z = loss_func(W0, W1, X_test, y_test)\n",
    "plt.contour(W0, W1, Z, levels = np.logspace(0, 8, 20))\n",
    "plt.plot(weights[:,0], weights[:,1], 'b.', markersize=5)\n",
    "plt.plot(weights[-1,0], weights[-1,1], 'r*', markersize=15)"
   ]
  },
  {
   "cell_type": "code",
   "execution_count": 57,
   "metadata": {
    "collapsed": false
   },
   "outputs": [
    {
     "data": {
      "text/plain": [
       "[<matplotlib.lines.Line2D at 0x127013c10>]"
      ]
     },
     "execution_count": 57,
     "metadata": {},
     "output_type": "execute_result"
    },
    {
     "data": {
      "image/png": "[encoded data removed]",
      "text/plain": [
       "<matplotlib.figure.Figure at 0x125407e50>"
      ]
     },
     "metadata": {},
     "output_type": "display_data"
    }
   ],
   "source": [
    "X_hat_train = np.hstack((np.ones((X_train.shape[0],1)), X_train[:,np.newaxis]))\n",
    "X_hat_val = np.hstack((np.ones((X_val.shape[0],1)), X_val[:,np.newaxis]))\n",
    "w = 0.01*np.random.randn(2,1)\n",
    "alpha = 1e-2\n",
    "train_error = []\n",
    "validation_error = []\n",
    "for i in range(1000):    \n",
    "    y_hat_train = np.dot(X_hat_train, w)\n",
    "    train_error.append(np.mean(np.abs(y_hat_train - y_train)))\n",
    "    \n",
    "    y_hat_val = np.dot(X_hat_val, w)\n",
    "    validation_error.append(np.mean(np.abs(y_hat_val - y_val)))\n",
    "\n",
    "    \n",
    "\n",
    "    w = w + (alpha/X_hat_train.shape[0])*(np.dot(X_hat_train.T, y_train[:,np.newaxis] - y_hat_train))\n",
    "    \n",
    "    \n",
    "\n",
    "    if len(train_error) > 5:\n",
    "        if np.abs(train_error[-1] - train_error[-2]) < 1e-2:\n",
    "            alpha = .99*alpha\n",
    "\n",
    "\n",
    "w\n",
    "plt.plot(train_error)"
   ]
  },
  {
   "cell_type": "markdown",
   "metadata": {},
   "source": [
    "# Probability\n",
    "\n",
    "You can think of a prograbability as a type of function that can take any input that can be described as sets (which is a very large class of inputs) and outputs a positive number between 0 and 1. There are some other special constraints for this function (such as the probability function must map the empty set to 0 and all elements in the set to 1), but the general gist is that a probability can be thought of us just another type of function with some special properties. \n",
    "\n",
    "More formally, the ingredients and nomenclature we use for the input types are: \n",
    "\n",
    "-  **Sample space** $\\Omega$: The set of all outcomes we may encounter in the world. For example, if we are interested in a world that only consists of coin tosses, then we can write $\\Omega = \\{Heads, Tails\\}$. Each outcome $\\omega \\in \\Omega$ can be thought one particular type of outcome that we may encouter. For example, $\\omega = \\{Heads\\}$. \n",
    "-  **Set of events** (or **event space**) or just **events** $\\mathcal{F}$: A set whose elements $A \\in \\mathcal{F}$ are subsets of $\\Omega$ (i.e., $A \\in \\Omega$ is a collection of possible outcomes of an experiment). For example, in a dice exeperiment $A = \\{1,3,5\\}$ is the event of odd-numbered outcomes. \n",
    "\n",
    "\n",
    "The probability function that maps the sets into real numbers must satisfy the following\n",
    "\n",
    "- **Probability measure**: A function $P:\\mathcal{F} \\rightarrow \\mathbb{R}$ that satisfies the following properties:\n",
    "    - $P\\left(A\\right) \\geq 0$, for all $A \\in \\mathcal{F}$\n",
    "    - $P\\left(\\Omega\\right) = 1$ (the probability of everything is 1)\n",
    "    - $P\\left(\\emptyset\\right) = 0$ (probability of the empty set is 0)\n",
    "    - If $A_1,A_2,\\dots$ are disjoint events (i.e., $A_i \\cap A_j = \\emptyset$ whenever $i \\neq j$), then:\n",
    "\n",
    "<center>$P\\left(\\cup_{i}A_{i}\\right) = \\sum_{i}{P\\left(A_i\\right)}$</center>"
   ]
  },
  {
   "cell_type": "markdown",
   "metadata": {},
   "source": [
    "### Properties\n",
    "\n",
    "\n",
    "- If $A\\subseteq B \\Longrightarrow P\\left(A\\right) \\leq P\\left(B\\right)$\n",
    "    - A event $B$ that is \"bigger\" (contains) event $A$ should have a bigger or equal probability \n",
    "    - In a dice roll, if $B = \\{1,3,5\\}$ and $A = \\{1,3,5\\}$, then $P\\left(A\\right) \\le P\\left(B\\right)$\n",
    "- $P\\left(A \\cup B\\right) = P\\left(A\\right) + P\\left(B\\right) - P\\left(A \\cap B\\right)$\n",
    "    - If $A \\cap B = \\emptyset$ (we say $A$ and $B$ are disjoint or **mutually exclusive**), then $P\\left(A \\cup B\\right) = P\\left(A\\right) + P\\left(B\\right)$\n",
    "- $P\\left(\\Omega \\setminus  A\\right) = 1 - P\\left(A\\right)$\n",
    "    - \"Carving\" out evet $A$ from the universe of possibe outcomes will yield the probability of 1 minus the probability of the $A$\n",
    "- **Law of Total Probability:** if $A_1,\\dots,A_k$ are a set of disjoint events such that $\\cup^{k}_{i=1}A_{i} = \\Omega$, then\n",
    "\n",
    "\n",
    "<center>$\\sum^{k}_{i=1}{P\\left(A_k\\right) = 1}$</center>\n"
   ]
  },
  {
   "cell_type": "markdown",
   "metadata": {},
   "source": [
    "##Conditional probability\n",
    "\n",
    "Often times we know a particular event has happened and want to know how knolwedge of an event happening changes the probabilities of other events. The **conditional** probability of an event $A$ given that an event $B$ has happened: \n",
    "\n",
    "$P\\left(A|B\\right) \\triangleq \\dfrac{P\\left(A \\cap B\\right)}{P\\left(B\\right)}$\n",
    "\n",
    "This is read as \"the probability of $A$ given that $B$ has occured\" or more succinctly as \"the probablity of $A$ given $B$\".\n",
    "\n",
    "One way of thinkng about this is that if we are told that some general thing has happened, what is the probability that a specific thing will happen? \n",
    "\n",
    "So for example, suppose I told you a dice roll was even. Then what is the probability that the the dice roll was a 2? Usually, the probability of getting a 2 is 1/6, but if you are told that the roll was even, then this knowledge helps you narrow the possible outcomes and readjust the probability to 1/3. If you are told that the roll was even, then the probability of getting any odd is 0.\n",
    "\n",
    "Similarly, we could be told something specific has happend, and asked what is the probability of a specific happening. For example, if we are told that a 3 is rolled and what is the probability of an odd, then we know that the outcome for sure will be odd - so the probability of an odd number will be 1.0!! \n",
    "\n",
    "##Bayes' rule\n",
    "\n",
    "It is not difficult to show from the definition of conditional probabilility that:\n",
    "\n",
    "$P\\left(A|B\\right) = \\dfrac{P\\left(B|A\\right)P\\left(A\\right)}{P\\left(B\\right)}$\n",
    "\n",
    "This relation is used so often that it warrants being attributed to the first person to popularize it. One reason Bayes's rule is popular is that conditional probabilities are often easier to calculate than joint events $P\\left(A \\cap B\\right)$. Also, thre are many instances where computing $P\\left(A|B\\right)$ is difficult but $P\\left(B|A\\right)$ is easy. \n",
    "\n",
    "\n",
    "## Independence\n",
    "\n",
    "Sometimes, the probability of an event with knowledge of the conditional does not change it at all. This is when the events $A$ and $B$ do not overlap at all so $P\\left(A \\cap B\\right) = P(A)P(B)$. In that case, we have\n",
    "\n",
    "$P\\left(A|B\\right) = P(A)$\n",
    "\n",
    "And similarly,\n",
    "\n",
    "$P\\left(B|A\\right) = P(B)$\n",
    "\n",
    "This is an extremely important property. For example, consider the experiment where I flip a coin 2 times. Given that the first flip was a head, what is the probability that the second toss is a head? \n",
    "\n",
    "We assume that the coin flips are *independent* and that the probability of the second flip has nothing to do with the first!"
   ]
  },
  {
   "cell_type": "code",
   "execution_count": 58,
   "metadata": {
    "collapsed": false
   },
   "outputs": [
    {
     "data": {
      "text/html": [
       "<img src=\"./imgs/lecture-4/conditional_a.png\" alt=\"Drawing\" style=\"width: 350px;\"/, align = \"left\">"
      ],
      "text/plain": [
       "<IPython.core.display.HTML object>"
      ]
     },
     "metadata": {},
     "output_type": "display_data"
    }
   ],
   "source": [
    "display(HTML('''<img src=\"./imgs/lecture-4/conditional_a.png\" alt=\"Drawing\" style=\"width: 350px;\"/, align = \"left\">'''))"
   ]
  },
  {
   "cell_type": "code",
   "execution_count": 59,
   "metadata": {
    "collapsed": false
   },
   "outputs": [
    {
     "data": {
      "text/html": [
       "<img src=\"./imgs/lecture-4/conditional_b.jpg\" alt=\"Drawing\" style=\"width: 300px;\"/, align = \"left\">"
      ],
      "text/plain": [
       "<IPython.core.display.HTML object>"
      ]
     },
     "metadata": {},
     "output_type": "display_data"
    }
   ],
   "source": [
    "display(HTML('''<img src=\"./imgs/lecture-4/conditional_b.jpg\" alt=\"Drawing\" style=\"width: 300px;\"/, align = \"left\">'''))"
   ]
  },
  {
   "cell_type": "markdown",
   "metadata": {},
   "source": [
    "# Random variables\n",
    "\n",
    "Random variables are neither random nor variable: a random variable is a function that maps elements from the sample space to a real numbers. It's helpful to always think of a ranodm variable as just another function that maps data from arbitraty inputs to real numbers. \n",
    "\n",
    "\n",
    "\n",
    "##Discrete random variable##\n",
    "\n",
    "\n",
    "$P\\left(X = k\\right):= P\\left(\\{\\omega: X\\left(\\omega\\right) = k\\}\\right).$\n",
    "\n",
    "Let's break this down a bit. We will start with the right hand side\n",
    "- $\\omega$ is an element from the sample space $\\Omega$.\n",
    "- We have defined a random variable (remember, just a function) $X(\\cdot)$ that maps elements from $\\Omega$ to the reals\n",
    "- Furthermore, we have defined $X(\\cdot)$ in such a way so that $X\\left(\\omega\\right) = k$ with $k \\in \\mathbb{R}$\n",
    "- Because we have defined $X(\\cdot)$, we can say that the probability that event $\\omega$ occurs is $P\\left(\\{\\omega: X\\left(\\omega\\right) = k\\}\\right)$\n",
    "\n",
    "The notation on the right hand side is cumbersome, so we write it as the left hand side. The way we read the left hand side is \"the probability that the random variable $X$ takes on the value $k$.\" We will often be even sloppier and just read the left hand side as \"the probability that $X = k$. It's good to be aware that there is a lot of important detail packed into this equation! These details become important when doing \"Bayesian\" analysis. \n",
    "\n",
    "\n",
    "\n",
    "\n",
    "##Probability mass function (PMF)\n",
    "\n",
    "\n",
    "$p_{X}\\left(x\\right) \\triangleq P\\left(X = x\\right).$\n",
    "\n",
    "- $0 \\leq p_{X}\\left(x\\right) \\leq 1.$\n",
    "- $\\sum_{x \\in V\\,al\\left(X\\right)}p_{X}\\left(x\\right) = 1.$\n",
    "- $\\sum_{x \\in A}p_{X}\\left(x\\right) = P\\left(X \\in A\\right).$\n"
   ]
  },
  {
   "cell_type": "code",
   "execution_count": 60,
   "metadata": {
    "collapsed": false
   },
   "outputs": [
    {
     "data": {
      "text/html": [
       "<img src=\"./imgs/lecture-4/random-variable.png\" alt=\"Drawing\" style=\"width: 600px;\"/, align = \"left\">"
      ],
      "text/plain": [
       "<IPython.core.display.HTML object>"
      ]
     },
     "metadata": {},
     "output_type": "display_data"
    }
   ],
   "source": [
    "display(HTML('''<img src=\"./imgs/lecture-4/random-variable.png\" alt=\"Drawing\" style=\"width: 600px;\"/, align = \"left\">'''))"
   ]
  },
  {
   "cell_type": "markdown",
   "metadata": {},
   "source": [
    "##Continuous random variable\n",
    "\n",
    "We need not map random variables to single values but a continous set of reals. This is especially useful when the number of elements in our set $\\Omega$ is infinite. \n",
    "\n",
    "$P\\left(a \\leq X \\leq b\\right) := P\\left(\\{\\omega: a\\leq X\\left(\\omega\\right) \\leq b\\}\\right).$\n",
    "\n",
    "## Cumulative distribution formula (CDF)\n",
    "\n",
    "$F_{X}\\left(x\\right) \\triangleq P\\left(X \\leq x\\right).$\n",
    "\n",
    "\n",
    "- $0 \\leq F_X\\left(x\\right)\\leq 1.$\n",
    "- $\\lim_{x\\rightarrow -\\infty} F_{X}\\left(x\\right) = 0.$\n",
    "- $\\lim_{x\\rightarrow \\infty} F_{X}\\left(x\\right) = 1.$\n",
    "- $x \\leq y \\Longrightarrow F_{X}\\left(x\\right) \\leq F_{X}\\left(y\\right).$\n",
    "\n",
    "\n",
    "##Probability Density Function\n",
    "$f_{X}\\left(x\\right) \\triangleq \\dfrac{dF_{X}\\left(x\\right)}{dx}.$\n",
    "\n",
    "$P\\left(x \\leq X \\leq x + \\Delta x\\right) \\approx f_{X}\\left(x\\right)\\Delta x.$\n",
    "\n",
    "\n",
    "\n",
    "- $f_{X}\\left(x\\right) \\geq 0.$\n",
    "- $\\int^{\\infty}_{- \\infty}{f_{X}\\left(x\\right)} = 1.$\n",
    "- $\\int_{x \\in A}{f_{X}\\left(x\\right)dx} = P\\left(X \\in A\\right).$\n"
   ]
  },
  {
   "cell_type": "code",
   "execution_count": 61,
   "metadata": {
    "collapsed": false
   },
   "outputs": [
    {
     "data": {
      "text/html": [
       "<img src=\"./imgs/lecture-4/cdf-pdf.png\" alt=\"Drawing\" style=\"width: 400px;\"/, align = \"left\">"
      ],
      "text/plain": [
       "<IPython.core.display.HTML object>"
      ]
     },
     "metadata": {},
     "output_type": "display_data"
    }
   ],
   "source": [
    "display(HTML('''<img src=\"./imgs/lecture-4/cdf-pdf.png\" alt=\"Drawing\" style=\"width: 400px;\"/, align = \"left\">'''))"
   ]
  },
  {
   "cell_type": "markdown",
   "metadata": {},
   "source": [
    "##Expectation\n",
    "$E[g\\left(X\\right)] \\triangleq \\sum_{x \\in V\\,al\\left(X\\right)}{g\\left(x\\right)p_{X}\\left(x\\right)}.$\n",
    "\n",
    "$E[g\\left(x\\right)] \\triangleq \\int^{\\infty}_{- \\infty}{g\\left(x\\right)f_{X}\\left(x\\right)dx}.$\n",
    "\n",
    "\n",
    "- $E[a] = a$ for any constant $a \\in \\mathbb{R}$.\n",
    "- $E[af\\left(X\\right)] = aE[f\\left(X\\right)]$ for any constant $a \\in \\mathbb{R}$.\n",
    "- (Linearity of Expectation) $E[f\\left(X\\right) + g\\left(X\\right)] = E[f\\left(X\\right)] + E[g\\left(X\\right)]$.\n",
    "- For a discrete random variable $X$, $E[1\\{X = k\\}] = P\\left(X = k\\right)$.\n"
   ]
  },
  {
   "cell_type": "markdown",
   "metadata": {},
   "source": [
    "##Variance\n",
    "\n",
    "$Var[X] \\triangleq E[\\left(X - E\\left(X\\right)\\right)^2]$\n",
    "\n",
    "\n",
    "$\\begin{align*}\n",
    "E[\\left(X - E[X]\\right)^2] &= E[X^2 -2E[X]X + E[X]^2]\\\\\n",
    "&= E[X^2] - 2E[X]E[X] + E[X]^2\\\\\n",
    "&= E[X^2] - E[X]^2\\\\\n",
    "\\end{align*}\n",
    "$\n",
    "\n"
   ]
  },
  {
   "cell_type": "markdown",
   "metadata": {},
   "source": [
    "##Discrete random variables\n",
    "\n",
    "\n",
    "- $X \\sim Bernoulli\\left(p\\right)$ ( where $0 \\leq p \\leq 1$): one if a coin with heads probability $p$ comes up heads, zero otherwise.\n",
    "\n",
    "$\\qquad\n",
    "p(x) =\\left\\{\\begin{array}{ll}\n",
    "p&\\text{if $p = 1$}\\\\\n",
    "1-p&\\text{if $p =0 $}\n",
    "\\end{array}\\right.\n",
    "$\n",
    "- $X \\sim Binomial\\left(n,p\\right)$ (where $0 \\leq p \\leq 1$): the number of heads in $n$ independent flips of a coin with heads probability $p$.\n",
    "\n",
    "$\\qquad\n",
    "p(x) = \\Bigg(\\begin{matrix}n\\\\p\\end{matrix}\\Bigg)p^{x}\\left(1-p\\right)^{n-x}\n",
    "$\n",
    "- $X \\sim Geometric\\left(p\\right)$ (where $p > 0$): the number of flips of a coin with heads probability $p$ until the first heads.\n",
    "\n",
    "$\\qquad\n",
    "p(x) = p\\left(1-p\\right)^{x-1}\n",
    "$\n",
    "- $X \\sim Poisson\\left(\\lambda\\right)$ (where $\\lambda > 0$): a probability distribution over the nonnegative integers used for modeling the frequency of rare events.\n",
    "\n",
    "$\\qquad\n",
    "p\\left(x\\right) = e^{-\\lambda}\\dfrac{\\lambda}{x!}\n",
    "$\n"
   ]
  },
  {
   "cell_type": "code",
   "execution_count": 62,
   "metadata": {
    "collapsed": false
   },
   "outputs": [
    {
     "data": {
      "image/png": "[encoded data removed]",
      "text/plain": [
       "<matplotlib.figure.Figure at 0x1253b3350>"
      ]
     },
     "metadata": {},
     "output_type": "display_data"
    }
   ],
   "source": [
    "# binomial\n",
    "\n",
    "n, p = 1000, .05\n",
    "s = np.random.binomial(n, p, 1000)\n",
    "plt.hist(s);"
   ]
  },
  {
   "cell_type": "code",
   "execution_count": 63,
   "metadata": {
    "collapsed": false
   },
   "outputs": [
    {
     "data": {
      "image/png": "[encoded data removed]",
      "text/plain": [
       "<matplotlib.figure.Figure at 0x12736c390>"
      ]
     },
     "metadata": {},
     "output_type": "display_data"
    }
   ],
   "source": [
    "# poisson approximating binomial\n",
    "\n",
    "s = np.random.poisson(p*n, 10000)\n",
    "plt.hist(s);"
   ]
  },
  {
   "cell_type": "markdown",
   "metadata": {},
   "source": [
    "##Continuous random variables\n",
    "\n",
    "- $X \\sim Uniform\\left(a,b\\right)$ (where $a < b$): equal probability density to every value between $a$ and $b$ on the real line.\n",
    "\n",
    "$\\qquad\n",
    "f\\left(x\\right) = \\left\\{\\begin{array}{ll}\n",
    "\\frac{1}{a - b} &\\text{if $a \\leq x \\leq b$}\\\\\n",
    "0&\\text{otherwise}\n",
    "\\end{array}\\right.\n",
    "$\n",
    "- $X \\sim Exponential\\left(\\lambda\\right)$ (where $\\lambda > 0$): decaying probability density over the nonnegative reals.\n",
    "\n",
    "$\\qquad\n",
    "f\\left(x\\right)=\\left\\{\\begin{array}{ll}\n",
    "\\lambda e^{-\\lambda x}&\\text{if $x\\ge0$}\\\\\n",
    "0&\\text{otherwise}\n",
    "\\end{array}\\right.\n",
    "$\n",
    "- $X \\sim Normal\\left(\\mu,\\sigma^2\\right)$: also know as the Gaussian distribution\n",
    "\n",
    "$\\qquad\n",
    "f(x) = \\dfrac{1}{\\sqrt{2\\pi}\\sigma}e^{-\\frac{1}{2\\sigma^2}\\left(x - \\mu\\right)^2}\n",
    "$"
   ]
  },
  {
   "cell_type": "markdown",
   "metadata": {},
   "source": [
    "##Joint cumulative distribution function\n",
    "\n",
    "$\n",
    "F_{XY}(x,y) = P(X \\leq x, Y \\leq y)\n",
    "$\n",
    "\n",
    "$\\begin{align*}\n",
    "F_X(x) &= \\lim_{y\\rightarrow \\infty}{F_{XY}(x,y)dy}\\\\\n",
    "F_Y(y) &= \\lim_{x\\rightarrow \\infty}{F_{XY}(x,y)dx}\n",
    "\\end{align*}$\n",
    "\n",
    "##Marginal cumulative distribution functions of $F_{XY}(x,y)$\n",
    "\n",
    "**Properties:**\n",
    "\n",
    "\n",
    "- $0 \\leq F_{XY}(x,y) \\leq 1$.\n",
    "- $\\lim_{x,y\\rightarrow \\infty}F_{XY}(x,y) =1$.\n",
    "- $\\lim_{x,y\\rightarrow -\\infty}F_{XY}(x,y) = 0$.\n",
    "- $F_{X}(x) = \\lim_{y\\rightarrow \\infty}F_{XY}(x,y)$.\n",
    "\n",
    "$\n",
    "p_X(x) = \\sum_{y}{p_{XY}(x,y)}\n",
    "$\n",
    "\n",
    "We refer to $p_{X}(x)$ as the **marginal probability mass function** of $X$."
   ]
  },
  {
   "cell_type": "markdown",
   "metadata": {},
   "source": [
    "##Marginal probability density function (or marginal density)\n",
    "\n",
    "$\n",
    "f_{X}(x) = \\int^{\\infty}_{-\\infty}{f_{XY}(x,y)dy}\n",
    "$\n",
    "\n",
    "\n",
    "##Conditional distributions\n",
    "\n",
    "$\n",
    "p_{Y|X}(y|x) = \\dfrac{p_{XY}(x,y)}{p_X(x)}\n",
    "$\n",
    "\n",
    "assuming that $p_X(x) \\neq 0$.\n",
    "\n",
    "##Independence\n",
    "\n",
    "Two random variables $X$ and $Y$ are **independent** if $F_{XY}(x,y) = F_X(x)F_Y(y)$ for all values of $x$ and $y$.\n"
   ]
  },
  {
   "cell_type": "markdown",
   "metadata": {},
   "source": [
    "##Expectation and covariance\n",
    "\n",
    "$\n",
    "E[g(X,Y)] \\triangleq \\sum_{x\\in V\\,al(X)} \\sum_{y\\in V\\,al(Y)} g(x,y)p_{XY}(x,y).\n",
    "$\n",
    "\n",
    "$\n",
    "E[g(X,Y)] = \\int^{\\infty}_{-\\infty}\\int^{\\infty}_{-\\infty} g(x,y)f_{XY}(x,y)dxdy.\n",
    "$\n",
    "\n",
    "$\n",
    "\\begin{align*}\n",
    "Cov[X,Y] &= E[(X - E[X])(Y - E[Y])]\\\\\n",
    "&= E[XY - XE[Y] - YE[X] + E[X]E[Y]]\\\\\n",
    "&= E[XY] -E[X]E[Y] - E[Y]E[X] + E[X]E[Y]]\\\\\n",
    "&= E[XY] -E[X]E[Y].\n",
    "\\end{align*}\n",
    "$\n",
    "\n",
    "When $Cov[X,Y] = 0$, we say that $X$ and $Y$ are **uncorrelated**. However, this is not the same thing as stating that $X$ and $Y$ are independent! For example, if $X \\sim Uniform(-1,1)$ and $Y = X^2$, then one can show that $X$ and $Y$ are uncorrelated, even though they are not independent."
   ]
  },
  {
   "cell_type": "markdown",
   "metadata": {},
   "source": [
    "**Properties**\n",
    "\n",
    "\n",
    "- **Linearity of expectation** $E[f(X,Y) + g(X,Y)] = E[f(X,Y)] + E[g(X,Y)]$.\n",
    "- $Var[X+Y] = Var[X] + Var[Y] + 2Cov[X,Y]$.\n",
    "- If $X$ and $Y$ are independent, then $Cov[X,Y] = 0$.\n",
    "- If $X$ and $Y$ are independent, then $E[f(X)g(Y)] = E[f(X)]E[g(Y)]$.\n"
   ]
  },
  {
   "cell_type": "markdown",
   "metadata": {},
   "source": [
    "##Chain Rule\n",
    "\n",
    "$\\begin{align*}\n",
    "f(x_1,x_2,\\ldots,x_n) &= f(x_n|x_1,x_2,\\ldots,x_{n-1})f(x_1,x_2,\\ldots,x_{n-1})\\\\\n",
    "&= f(x_n|x_1,x_2,\\ldots,x_{n-1})f(x_{n-1}|x_1,x_2,\\ldots,x_{n-2})f(x_1,x_2,\\ldots,x_{n-2})\\\\\n",
    "&= \\ldots = f(x_1)\\prod\\limits^{n}_{i=2}f(x_i|x_1,\\ldots,x_{i-1}).\n",
    "\\end{align*}$\n",
    "\n"
   ]
  },
  {
   "cell_type": "markdown",
   "metadata": {},
   "source": [
    "##Expectation\n",
    "\n",
    "Consider an arbitrary function from $g:\\mathbb{R}^n \\rightarrow \\mathbb{R}$. The expected value of this function is defined as\n",
    "\n",
    "$\n",
    "E[g(X)] = \\int_{\\mathbb{R}^n} g(x_1,x_2,\\ldots,x_n)f_{X_1,X_2,\\ldots,X_n}(x_1,x_2,\\ldots,x_n)dx_1dx_2\\ldots dx_n,\n",
    "$\n",
    "\n",
    "where $\\int_{\\mathbb{R}^n}$ is $n$ consecutive integrations from $-\\infty$ to $\\infty$. If $g$ is a function from $\\mathbb{R}^n$ to $\\mathbb{R}^m$, then the expected value of $g$ is the element-wise expected values of the output vector, i.e., if $g$ is \n",
    "\n",
    "$\n",
    "g(x) = \\begin{bmatrix} g_1(x)\\\\g_2(x)\\\\ \\vdots \\\\ g_m(x) \\end{bmatrix}\n",
    "$\n",
    "\n",
    "Then,\n",
    "\n",
    "$\n",
    "E[g(X)] = \\begin{bmatrix} E[g_1(X)]\\\\ E[g_2(X)]\\\\ \\vdots \\\\ E[g_m(X)] \\end{bmatrix}\n",
    "$"
   ]
  },
  {
   "cell_type": "markdown",
   "metadata": {},
   "source": [
    "##Covariance matrix: \n",
    "\n",
    "For a given random vector $X: \\Omega \\rightarrow \\mathbb{R}^n$, its covariance matrix $\\Sigma$ is the $n\\times n$ square matrix whose entries are given by $\\Sigma_{ij} = Cov[X_i, X_j]$.\n",
    "\n",
    "\n",
    "From the definition of covariance, we have\n",
    "\n",
    "$\n",
    "\\begin{align*}\n",
    "\\Sigma &= \\begin{bmatrix} Cov[X_1,X_1] & \\cdots & Cov[X_1,X_n]\\\\\n",
    "\\vdots & \\ddots & \\vdots\\\\\n",
    "Cov[X_n,X_1] & \\cdots & Cov[X_n,X_n] \\end{bmatrix}\\\\\n",
    "&= \\begin{bmatrix} e[X^{2}_{1}] - E[X_1]E[X_1] & \\cdots & E[X_1X_n] - E[X_1]E[X_n]\\\\\n",
    "\\vdots & \\ddots & \\vdots \\\\\n",
    "e[X_nX_1] - E[X_n]E[X_1] & \\cdots & E[X^{2}_{n}] - E[X_n]E[X_n] \\end{bmatrix}\\\\\n",
    "&= \\begin{bmatrix} E[X^{2}_{1}] & \\cdots & E[X_1X_n]\\\\\n",
    "\\vdots & \\ddots & \\vdots \\\\\n",
    "E[X_nX_1] & \\cdots & E[X^{2}_{n}] \\end{bmatrix} - \\begin{bmatrix} E[X_1]E[X_1] & \\cdots & E[X_1]E[X_n]\\\\\n",
    "\\vdots & \\ddots & \\vdots \\\\\n",
    "E[X_n]E[X_1] & \\cdots & E[X_n]E[X_n] \\end{bmatrix}\\\\\n",
    "&= E[XX^T] - E[X]E[X]^T = \\ldots = E[(X - E[X])(X - E[X])^T].\n",
    "\\end{align*}\n",
    "$\n",
    "\n",
    "where the matrix expectation is defined in the obvious way.\n",
    "\n",
    "The covariance matrix has a number of useful properties:\n",
    "\n",
    "\n",
    "- $\\Sigma \\succeq 0$; that is, $\\Sigma$ is positive semidefinite.\n",
    "- $\\Sigma = \\Sigma^T$; that is, $\\Sigma$ is symmetric.\n"
   ]
  },
  {
   "cell_type": "markdown",
   "metadata": {},
   "source": [
    "##The multivariate Gaussian distribution\n",
    "\n",
    "A random vector $X \\in \\mathbb{R}^n$ is said to have a multivariate normal (or Gaussian) distribution with mean $\\mu \\in \\mathbb{R}^n$ and covariance matrix $\\Sigma \\in \\mathbb{S}^{n}_{++}$ (where $\\mathbb{S}^{n}_{++}$ refers to the space of symmetric positive definite $n\\times n$ matrices)\n",
    "\n",
    "$\n",
    "f_{X_1,X_2,\\ldots,X_n}(x_1,x_2,\\ldots,x_n;\\mu, \\Sigma) = \\dfrac{1}{(2\\pi)^{n/2}|\\Sigma|^{1/2}}\\exp \\Bigg(-\\dfrac{1}{2}(x - \\mu)^T\\Sigma^{-1}(x - \\mu)\\Bigg).\n",
    "$\n",
    "\n"
   ]
  },
  {
   "cell_type": "markdown",
   "metadata": {
    "collapsed": true
   },
   "source": [
    "##Bayes's rule\n",
    "\n",
    "$\n",
    "P_{Y|X}(y|x) = \\dfrac{P_{XY}(x,y)}{P_{X}(x)} = \\dfrac{P_{X|Y}(x|y)P_Y(y)}{\\sum_{y' \\in V\\,al(Y)}P_{X|Y}(x|y')P_Y(y')}.\n",
    "$\n",
    "\n",
    "\n",
    "**Frequentism**: a coin is flipped 1000 times and is always heads. The probability of heads for flip 1001: 1/2\n",
    "\n",
    "\n",
    "**Bayesianism**: a coin is flipped 1000 times and is always tails. The probability of heads for flip 1001: 0.99999"
   ]
  },
  {
   "cell_type": "code",
   "execution_count": 64,
   "metadata": {
    "collapsed": false
   },
   "outputs": [
    {
     "data": {
      "image/png": "[encoded data removed]",
      "text/plain": [
       "<matplotlib.figure.Figure at 0x1273b1250>"
      ]
     },
     "metadata": {},
     "output_type": "display_data"
    }
   ],
   "source": [
    "df = pd.read_csv(\"./data/trian-har.csv\")\n",
    "\n",
    "df_subject = df[df.subject == 1]\n",
    "\n",
    "data = np.array(df_subject.iloc[:,:-2])\n",
    "\n",
    "U, s, V = np.linalg.svd(data)\n",
    "plt.plot(s);"
   ]
  },
  {
   "cell_type": "code",
   "execution_count": 65,
   "metadata": {
    "collapsed": false
   },
   "outputs": [
    {
     "data": {
      "text/plain": [
       "<matplotlib.axes._subplots.AxesSubplot at 0x1254457d0>"
      ]
     },
     "execution_count": 65,
     "metadata": {},
     "output_type": "execute_result"
    },
    {
     "data": {
      "image/png": "[encoded data removed]",
      "text/plain": [
       "<matplotlib.figure.Figure at 0x1273bbd90>"
      ]
     },
     "metadata": {},
     "output_type": "display_data"
    }
   ],
   "source": [
    "df.iloc[:,0].hist(bins = 100)"
   ]
  },
  {
   "cell_type": "code",
   "execution_count": 66,
   "metadata": {
    "collapsed": true
   },
   "outputs": [],
   "source": [
    "data_projected = np.dot(V, data.T).T"
   ]
  },
  {
   "cell_type": "code",
   "execution_count": 67,
   "metadata": {
    "collapsed": false
   },
   "outputs": [],
   "source": [
    "x1 = data_projected[:,0]\n",
    "x2 = data_projected[:,1]"
   ]
  },
  {
   "cell_type": "code",
   "execution_count": 68,
   "metadata": {
    "collapsed": false
   },
   "outputs": [
    {
     "data": {
      "image/png": "[encoded data removed]",
      "text/plain": [
       "<matplotlib.figure.Figure at 0x12736c690>"
      ]
     },
     "metadata": {},
     "output_type": "display_data"
    }
   ],
   "source": [
    "plt.hist(x1, bins=100);"
   ]
  },
  {
   "cell_type": "code",
   "execution_count": 69,
   "metadata": {
    "collapsed": false
   },
   "outputs": [
    {
     "data": {
      "image/png": "[encoded data removed]",
      "text/plain": [
       "<matplotlib.figure.Figure at 0x11e8d1550>"
      ]
     },
     "metadata": {},
     "output_type": "display_data"
    }
   ],
   "source": [
    "plt.hist(x2, bins=100);"
   ]
  },
  {
   "cell_type": "code",
   "execution_count": 70,
   "metadata": {
    "collapsed": true
   },
   "outputs": [],
   "source": [
    "labels = df.Activity"
   ]
  },
  {
   "cell_type": "code",
   "execution_count": 71,
   "metadata": {
    "collapsed": false
   },
   "outputs": [],
   "source": [
    "y = np.zeros(labels.shape[0])"
   ]
  },
  {
   "cell_type": "code",
   "execution_count": 72,
   "metadata": {
    "collapsed": true
   },
   "outputs": [],
   "source": [
    "activity_codes = {\n",
    "    \"STANDING\": \"red\", \"SITTING\": \"green\", \"LAYING\": \"blue\", \"WALKING\": \"yellow\",\n",
    "    'WALKING_DOWNSTAIRS': \"cyan\", 'WALKING_UPSTAIRS': \"orange\" }\n",
    "\n"
   ]
  },
  {
   "cell_type": "code",
   "execution_count": 73,
   "metadata": {
    "collapsed": false
   },
   "outputs": [
    {
     "name": "stderr",
     "output_type": "stream",
     "text": [
      "/Users/myazdaniUCSD/anaconda/lib/python2.7/site-packages/IPython/kernel/__main__.py:1: FutureWarning: in the future, boolean array-likes will be handled as a boolean array index\n",
      "  if __name__ == '__main__':\n",
      "/Users/myazdaniUCSD/anaconda/lib/python2.7/site-packages/IPython/kernel/__main__.py:2: FutureWarning: in the future, boolean array-likes will be handled as a boolean array index\n",
      "  from IPython.kernel.zmq import kernelapp as app\n",
      "/Users/myazdaniUCSD/anaconda/lib/python2.7/site-packages/IPython/kernel/__main__.py:3: FutureWarning: in the future, boolean array-likes will be handled as a boolean array index\n",
      "  app.launch_new_instance()\n"
     ]
    }
   ],
   "source": [
    "y[labels == \"WALKING\"] = 1\n",
    "y[labels == \"WALKING_DOWNSTAIRS\"] = 1\n",
    "y[labels == \"WALKING_UPSTAIRS\"] = 1"
   ]
  },
  {
   "cell_type": "code",
   "execution_count": null,
   "metadata": {
    "collapsed": true
   },
   "outputs": [],
   "source": []
  }
 ],
 "metadata": {
  "kernelspec": {
   "display_name": "Python 2",
   "language": "python",
   "name": "python2"
  },
  "language_info": {
   "codemirror_mode": {
    "name": "ipython",
    "version": 2
   },
   "file_extension": ".py",
   "mimetype": "text/x-python",
   "name": "python",
   "nbconvert_exporter": "python",
   "pygments_lexer": "ipython2",
   "version": "2.7.12"
  }
 },
 "nbformat": 4,
 "nbformat_minor": 0
}
