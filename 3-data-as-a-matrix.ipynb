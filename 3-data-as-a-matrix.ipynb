{
 "cells": [
  {
   "cell_type": "markdown",
   "metadata": {},
   "source": [
    "# Data as a matrix and the inverse transform\n",
    "\n",
    "So far we have talked about the matrix as a linear machine that transforms inputs from one vector space to another. The linear transformation is just one of many interpretations of matrices. Another one is for datasets.\n",
    "\n",
    "We often represent datasets in tabular form. Typically, this tabular form is structured so that:\n",
    "- the rows correspond to different examples (sometimes also called samples, records, instances, ...)\n",
    "- the columns correspond to different measurements (sometimes also called features, attributes, fields, ...)\n",
    "\n",
    "The rows and columns can sometimes be flipped though - in biology and bioinformatics, for example, the features are in the rows. \n",
    "\n",
    "We have been discussing one of the triumphs of the 20th century in computation: the Singular Value Decomposition (SVD). But as you may have seen in an Excel spread sheet, the elements in a table can be any primitive data type (int, float, string, etc). We only defined the SVD when the elements are of a numeric type (specifically, floats. We did not make any constraints about the vectors to integers - why?).\n",
    "\n",
    "In data mining and machine learning, a great deal of effort is placed into encoding non-numeric data types into numeric fields so that we can use tools such as the SVD. Typically in data mining, data scientists with the (possible) help of a domain specialist will *engineer* numeric features so that we can represent strings as floats. In machine learning on the other hand, we may want to actually develop algorithms that *learn* the features themselves instead of having to rely on humans. \n",
    "\n",
    "\n",
    "In this course we will continue to only consider *numeric* features so that we can use tools such as the SVD since that is our main aim here. \n",
    "\n",
    "So if we have $N$ samples from $x_{i} \\in \\mathbb{R}^{n}$ different floating points measurements, the data matrix would look like:\n",
    "\n",
    "$\n",
    "\\begin{bmatrix} \n",
    "x_{1}^T\\\\\n",
    "x_{2}^{T}\\\\\n",
    "\\vdots\\\\\n",
    "x_{N}\n",
    "\\end{bmatrix}\n",
    "$\n",
    "\n",
    "What is the rank of this matrix? \n",
    "\n",
    "If we have more samples than features, so $N > n$, then the rank is at most $n$. However, if a lot of our features (for example, sensors) are very similar, then the *effective* rank will also much less than $n$. "
   ]
  },
  {
   "cell_type": "code",
   "execution_count": 102,
   "metadata": {
    "collapsed": false
   },
   "outputs": [],
   "source": [
    "import pandas as pd\n",
    "import numpy as np\n",
    "\n",
    "import matplotlib.pyplot as plt\n",
    "\n",
    "\n",
    "from IPython.display import display, HTML\n",
    "\n",
    "%matplotlib inline"
   ]
  },
  {
   "cell_type": "code",
   "execution_count": 103,
   "metadata": {
    "collapsed": false
   },
   "outputs": [
    {
     "data": {
      "image/png": "[encoded data removed]",
      "text/plain": [
       "<matplotlib.figure.Figure at 0x11a353210>"
      ]
     },
     "metadata": {},
     "output_type": "display_data"
    }
   ],
   "source": [
    "df = pd.read_csv(\"./data/trian-har.csv\")\n",
    "\n",
    "df_subject = df[df.subject == 1]\n",
    "\n",
    "data = np.array(df_subject.iloc[:,:-2])\n",
    "\n",
    "U, s, V = np.linalg.svd(data)\n",
    "plt.plot(s);"
   ]
  },
  {
   "cell_type": "code",
   "execution_count": 104,
   "metadata": {
    "collapsed": false
   },
   "outputs": [
    {
     "data": {
      "text/plain": [
       "(347, 561)"
      ]
     },
     "execution_count": 104,
     "metadata": {},
     "output_type": "execute_result"
    }
   ],
   "source": [
    "data.shape"
   ]
  },
  {
   "cell_type": "code",
   "execution_count": 105,
   "metadata": {
    "collapsed": true
   },
   "outputs": [],
   "source": [
    "data_projected = np.dot(V, data.T).T"
   ]
  },
  {
   "cell_type": "code",
   "execution_count": 106,
   "metadata": {
    "collapsed": false
   },
   "outputs": [
    {
     "data": {
      "text/plain": [
       "(347, 561)"
      ]
     },
     "execution_count": 106,
     "metadata": {},
     "output_type": "execute_result"
    }
   ],
   "source": [
    "data_projected.shape"
   ]
  },
  {
   "cell_type": "code",
   "execution_count": 107,
   "metadata": {
    "collapsed": false
   },
   "outputs": [
    {
     "data": {
      "image/png": "[encoded data removed]",
      "text/plain": [
       "<matplotlib.figure.Figure at 0x119d4f210>"
      ]
     },
     "metadata": {},
     "output_type": "display_data"
    }
   ],
   "source": [
    "activity_codes = {\n",
    "    \"STANDING\": \"red\", \"SITTING\": \"green\", \"LAYING\": \"blue\", \"WALKING\": \"yellow\",\n",
    "    'WALKING_DOWNSTAIRS': \"cyan\", 'WALKING_UPSTAIRS': \"orange\" }\n",
    "\n",
    "for i in range(data_projected.shape[0]):\n",
    "    ax = plt.scatter(data_projected[i,0], data_projected[i,1], c = activity_codes[df_subject.Activity[i]])\n",
    "\n"
   ]
  },
  {
   "cell_type": "markdown",
   "metadata": {},
   "source": [
    "But what do these singular vectors represent? Lets look at the top 1:\n",
    "\n",
    "Note that each element of the singular vector corresponds to a *weighting* of how important each \"sensor\" is. "
   ]
  },
  {
   "cell_type": "code",
   "execution_count": 108,
   "metadata": {
    "collapsed": false
   },
   "outputs": [
    {
     "data": {
      "text/plain": [
       "[<matplotlib.lines.Line2D at 0x1248826d0>]"
      ]
     },
     "execution_count": 108,
     "metadata": {},
     "output_type": "execute_result"
    },
    {
     "data": {
      "image/png": "[encoded data removed]",
      "text/plain": [
       "<matplotlib.figure.Figure at 0x11a060610>"
      ]
     },
     "metadata": {},
     "output_type": "display_data"
    }
   ],
   "source": [
    "plt.plot(V[0,:], '.')"
   ]
  },
  {
   "cell_type": "code",
   "execution_count": 109,
   "metadata": {
    "collapsed": false
   },
   "outputs": [
    {
     "data": {
      "text/plain": [
       "[<matplotlib.lines.Line2D at 0x12f502650>]"
      ]
     },
     "execution_count": 109,
     "metadata": {},
     "output_type": "execute_result"
    },
    {
     "data": {
      "image/png": "[encoded data removed]",
      "text/plain": [
       "<matplotlib.figure.Figure at 0x12f672110>"
      ]
     },
     "metadata": {},
     "output_type": "display_data"
    }
   ],
   "source": [
    "plt.plot(np.abs(V[0,:]), '.')"
   ]
  },
  {
   "cell_type": "code",
   "execution_count": 110,
   "metadata": {
    "collapsed": false
   },
   "outputs": [
    {
     "data": {
      "text/plain": [
       "(14,)"
      ]
     },
     "execution_count": 110,
     "metadata": {},
     "output_type": "execute_result"
    }
   ],
   "source": [
    "np.where(np.abs(V[0,:])>.062)[0].shape"
   ]
  },
  {
   "cell_type": "code",
   "execution_count": 111,
   "metadata": {
    "collapsed": false
   },
   "outputs": [],
   "source": [
    "sparse_projection = np.dot(V[1,np.where(np.abs(V[1,:])>.1)[0]], data.T[np.where(np.abs(V[1,:])>.1)[0],:]).T"
   ]
  },
  {
   "cell_type": "code",
   "execution_count": 112,
   "metadata": {
    "collapsed": false
   },
   "outputs": [
    {
     "data": {
      "image/png": "[encoded data removed]",
      "text/plain": [
       "<matplotlib.figure.Figure at 0x130174890>"
      ]
     },
     "metadata": {},
     "output_type": "display_data"
    }
   ],
   "source": [
    "activity_codes = {\n",
    "    \"STANDING\": \"red\", \"SITTING\": \"green\", \"LAYING\": \"blue\", \"WALKING\": \"yellow\",\n",
    "    'WALKING_DOWNSTAIRS': \"cyan\", 'WALKING_UPSTAIRS': \"orange\" }\n",
    "\n",
    "for i in range(data_projected.shape[0]):\n",
    "    ax = plt.scatter(sparse_projection[i], .01*np.random.randn(), c = activity_codes[df_subject.Activity[i]])"
   ]
  },
  {
   "cell_type": "code",
   "execution_count": 113,
   "metadata": {
    "collapsed": false
   },
   "outputs": [
    {
     "data": {
      "text/plain": [
       "(347, 561)"
      ]
     },
     "execution_count": 113,
     "metadata": {},
     "output_type": "execute_result"
    }
   ],
   "source": [
    "data.shape"
   ]
  },
  {
   "cell_type": "code",
   "execution_count": 114,
   "metadata": {
    "collapsed": false
   },
   "outputs": [
    {
     "data": {
      "text/plain": [
       "(347,)"
      ]
     },
     "execution_count": 114,
     "metadata": {},
     "output_type": "execute_result"
    }
   ],
   "source": [
    "s.shape"
   ]
  },
  {
   "cell_type": "markdown",
   "metadata": {},
   "source": [
    "# Rank of a matrix and dimension\n",
    "\n",
    "\n",
    "\n",
    "For $A \\in \\mathbb{R}^{m\\times n}$, we have the following properties: \n",
    "\n",
    "- $\\text{rank}\\left(A\\right) \\leq \\min\\left(m, n\\right)$\n",
    "    - The rank of a matrix can never be more than the number of rows/columns (the smaller of the two)\n",
    "    - If $\\text{rank}\\left(A\\right) = \\min\\left(m, n\\right)$, then $A$ is said to be **full rank**\n",
    "\n",
    "\n",
    "- $\\text{rank}\\left(A\\right) = \\text{rank}\\left(A^{T}\\right)$.\n",
    "    - This shouldn't be a surprise given that $\\text{rank}\\left(A\\right) \\leq \\min\\left(m, n\\right)$\n",
    "\n",
    "\n",
    "- For $B \\in \\mathbb{R}^{n\\times p}$, $\\text{rank}\\left(AB\\right) \\leq \\min\\left(\\text{rank}\\left(A\\right),\\text{rank}\\left(B\\right)\\right)$.\n",
    "    - Rank never increasing when you multiply matrices \n",
    "    - *Optional aside:* the overall rank is pulled down by the matrix with the lowest rank. This can give some intuition for \"deep\" linear neural networks.\n",
    "\n",
    "\n",
    "- For $A,B \\in \\mathbb{R}^{m\\times n}$, $\\text{rank}\\left(A + B\\right) \\leq \\text{rank}\\left(A\\right) + \\text{rank}\\left(B\\right)$.\n",
    "    - *Optional aside:* this may give some intuition behind the deep linear \"residual\" neural networks\n",
    "\n",
    "\n"
   ]
  },
  {
   "cell_type": "code",
   "execution_count": 115,
   "metadata": {
    "collapsed": false
   },
   "outputs": [],
   "source": [
    "df = pd.read_csv(\"./data/sd-airbnb-listings.csv\")\n",
    "df[\"price\"] = df[\"price\"].replace( '[\\$,)]','', regex=True).astype(float)"
   ]
  },
  {
   "cell_type": "code",
   "execution_count": 116,
   "metadata": {
    "collapsed": false
   },
   "outputs": [
    {
     "data": {
      "text/plain": [
       "(6608, 95)"
      ]
     },
     "execution_count": 116,
     "metadata": {},
     "output_type": "execute_result"
    }
   ],
   "source": [
    "df.shape"
   ]
  },
  {
   "cell_type": "code",
   "execution_count": 117,
   "metadata": {
    "collapsed": false
   },
   "outputs": [],
   "source": [
    "df_mini = df[['review_scores_rating',\n",
    "       u'review_scores_accuracy', u'review_scores_cleanliness',\n",
    "       u'review_scores_checkin', u'review_scores_communication',\n",
    "       u'review_scores_location', u'review_scores_value', 'square_feet', 'price']]\n",
    "\n",
    "df_clean= df_mini.dropna()"
   ]
  },
  {
   "cell_type": "code",
   "execution_count": 118,
   "metadata": {
    "collapsed": false
   },
   "outputs": [
    {
     "data": {
      "text/plain": [
       "(94, 9)"
      ]
     },
     "execution_count": 118,
     "metadata": {},
     "output_type": "execute_result"
    }
   ],
   "source": [
    "df_clean.shape"
   ]
  },
  {
   "cell_type": "code",
   "execution_count": 119,
   "metadata": {
    "collapsed": false
   },
   "outputs": [],
   "source": [
    "u, s, v = np.linalg.svd(np.array(df_clean.iloc[:,:-1]))"
   ]
  },
  {
   "cell_type": "code",
   "execution_count": 120,
   "metadata": {
    "collapsed": false
   },
   "outputs": [
    {
     "data": {
      "image/png": "[encoded data removed]",
      "text/plain": [
       "<matplotlib.figure.Figure at 0x12f856850>"
      ]
     },
     "metadata": {},
     "output_type": "display_data"
    }
   ],
   "source": [
    "plt.plot(s);"
   ]
  },
  {
   "cell_type": "markdown",
   "metadata": {},
   "source": [
    "Why are the singular values going down so fast? Notice that a of these columns are all reviews so they are very similar. We can measure how similar they are computing their \"correlation.\" There are many ways of computing correlation, but for example let's compute the Pearson correlation between two review scores:"
   ]
  },
  {
   "cell_type": "code",
   "execution_count": 121,
   "metadata": {
    "collapsed": false
   },
   "outputs": [
    {
     "data": {
      "text/plain": [
       "array([[ 1.        ,  0.75425047],\n",
       "       [ 0.75425047,  1.        ]])"
      ]
     },
     "execution_count": 121,
     "metadata": {},
     "output_type": "execute_result"
    }
   ],
   "source": [
    "np.corrcoef(df_clean.review_scores_accuracy, df_clean.review_scores_rating)"
   ]
  },
  {
   "cell_type": "markdown",
   "metadata": {},
   "source": [
    "Pearson correlation measuring different strengths\n"
   ]
  },
  {
   "cell_type": "code",
   "execution_count": 122,
   "metadata": {
    "collapsed": false
   },
   "outputs": [
    {
     "data": {
      "text/html": [
       "<img src=\"./imgs/lecture-3/pearson-correlation.png\" alt=\"Drawing\" style=\"width: 900px;\"/, align = \"left\">"
      ],
      "text/plain": [
       "<IPython.core.display.HTML object>"
      ]
     },
     "metadata": {},
     "output_type": "display_data"
    }
   ],
   "source": [
    "display(HTML('''<img src=\"./imgs/lecture-3/pearson-correlation.png\" alt=\"Drawing\" style=\"width: 900px;\"/, align = \"left\">'''))"
   ]
  },
  {
   "cell_type": "markdown",
   "metadata": {},
   "source": [
    "# Exercise 1\n",
    "\n",
    "\n",
    "Define **condition number** of a matrix to be the ratio of the largest to smallet singular values. In this exercise we want to explore how the condition number is distributed for random IID matrices. \n",
    "1. Generate 2-by-2 matrix from IID draws from a Normal distribution with mean 0 and standard deviation 1.0 and compute the condition number.\n",
    "2. Repeat step 1 for 1,000 (or more) times and display a histogram of to get a sense for how condition numbers are distributed\n",
    "\n"
   ]
  },
  {
   "cell_type": "code",
   "execution_count": 79,
   "metadata": {
    "collapsed": false
   },
   "outputs": [],
   "source": [
    "d = 100\n",
    "N = 1000\n",
    "cond_nums = np.zeros(N)\n",
    "for i in range(N):\n",
    "    A = np.random.randn(d,d)\n",
    "    _,s,_ = np.linalg.svd(A)\n",
    "    cond_num = s[0]/s[-1]\n",
    "    cond_nums[i] = cond_num"
   ]
  },
  {
   "cell_type": "code",
   "execution_count": 81,
   "metadata": {
    "collapsed": false
   },
   "outputs": [
    {
     "data": {
      "image/png": "[encoded data removed]",
      "text/plain": [
       "<matplotlib.figure.Figure at 0x119bc5a50>"
      ]
     },
     "metadata": {},
     "output_type": "display_data"
    }
   ],
   "source": [
    "plt.hist(cond_nums, bins=100);"
   ]
  },
  {
   "cell_type": "code",
   "execution_count": 82,
   "metadata": {
    "collapsed": false
   },
   "outputs": [
    {
     "data": {
      "image/png": "[encoded data removed]",
      "text/plain": [
       "<matplotlib.figure.Figure at 0x1301b0b90>"
      ]
     },
     "metadata": {},
     "output_type": "display_data"
    }
   ],
   "source": [
    "plt.hist(np.log10(cond_nums), bins=100);"
   ]
  },
  {
   "cell_type": "code",
   "execution_count": 83,
   "metadata": {
    "collapsed": false
   },
   "outputs": [
    {
     "data": {
      "text/plain": [
       "316.22776601683796"
      ]
     },
     "execution_count": 83,
     "metadata": {},
     "output_type": "execute_result"
    }
   ],
   "source": [
    "10**2.5"
   ]
  },
  {
   "cell_type": "code",
   "execution_count": 84,
   "metadata": {
    "collapsed": false
   },
   "outputs": [
    {
     "data": {
      "text/plain": [
       "352.82443636775486"
      ]
     },
     "execution_count": 84,
     "metadata": {},
     "output_type": "execute_result"
    }
   ],
   "source": [
    "np.median(cond_nums)"
   ]
  },
  {
   "cell_type": "code",
   "execution_count": 19,
   "metadata": {
    "collapsed": false
   },
   "outputs": [
    {
     "data": {
      "text/plain": [
       "2.5753042470226766"
      ]
     },
     "execution_count": 19,
     "metadata": {},
     "output_type": "execute_result"
    }
   ],
   "source": [
    "np.log10(np.median(cond_nums))"
   ]
  },
  {
   "cell_type": "markdown",
   "metadata": {},
   "source": [
    "# Exercise 2\n",
    "\n",
    "\n",
    "Repeat exercise 1 but for\n",
    "- 5-by-5 matrices\n",
    "- 10-by-10\n",
    "- 100-by-100\n",
    "- *Optional:* create a boxplot for each of the cases so that you can show how the distributions vary for each case. A good resource for making visualizations in Python is: https://python-graph-gallery.com\n"
   ]
  },
  {
   "cell_type": "markdown",
   "metadata": {},
   "source": [
    "# Exercise 3 \n",
    "\n",
    "Repeat exercise 2 but modify each matrix generated to be duplicated horizontally. So if you generated a matrix $A \\in \\mathbb{R}^{n\\times n}$, modify this matrix to $B = \n",
    "\\begin{bmatrix}\n",
    "A & A\n",
    "\\end{bmatrix}$"
   ]
  },
  {
   "cell_type": "markdown",
   "metadata": {},
   "source": [
    "# Exercise 4 \n",
    "\n",
    "Repeat exercise 2 for the 100-by-100 matrix but apply a smoothing function to each row for each of the matrices you generated. The smoothing function can be a simple \"moving average window\" filter. \n"
   ]
  },
  {
   "cell_type": "code",
   "execution_count": 85,
   "metadata": {
    "collapsed": true
   },
   "outputs": [],
   "source": [
    "from scipy.linalg import toeplitz"
   ]
  },
  {
   "cell_type": "code",
   "execution_count": 88,
   "metadata": {
    "collapsed": false
   },
   "outputs": [],
   "source": [
    "d = 100\n",
    "window_length = 30\n",
    "first_row = np.hstack((np.ones(window_length), np.zeros(d - window_length)))\n",
    "\n",
    "first_col = np.zeros(d)\n",
    "first_col[0] = 1\n",
    "\n",
    "\n",
    "moving_avg = 1./window_length * toeplitz(first_col, first_row)"
   ]
  },
  {
   "cell_type": "code",
   "execution_count": 89,
   "metadata": {
    "collapsed": false
   },
   "outputs": [
    {
     "data": {
      "text/plain": [
       "(100, 100)"
      ]
     },
     "execution_count": 89,
     "metadata": {},
     "output_type": "execute_result"
    }
   ],
   "source": [
    "moving_avg.shape"
   ]
  },
  {
   "cell_type": "code",
   "execution_count": 90,
   "metadata": {
    "collapsed": false
   },
   "outputs": [
    {
     "data": {
      "text/plain": [
       "array([ 0.03333333,  0.03333333,  0.03333333,  0.03333333,  0.03333333,\n",
       "        0.03333333,  0.03333333,  0.03333333,  0.03333333,  0.03333333,\n",
       "        0.03333333,  0.03333333,  0.03333333,  0.03333333,  0.03333333,\n",
       "        0.03333333,  0.03333333,  0.03333333,  0.03333333,  0.03333333,\n",
       "        0.03333333,  0.03333333,  0.03333333,  0.03333333,  0.03333333,\n",
       "        0.03333333,  0.03333333,  0.03333333,  0.03333333,  0.03333333,\n",
       "        0.        ,  0.        ,  0.        ,  0.        ,  0.        ,\n",
       "        0.        ,  0.        ,  0.        ,  0.        ,  0.        ,\n",
       "        0.        ,  0.        ,  0.        ,  0.        ,  0.        ,\n",
       "        0.        ,  0.        ,  0.        ,  0.        ,  0.        ,\n",
       "        0.        ,  0.        ,  0.        ,  0.        ,  0.        ,\n",
       "        0.        ,  0.        ,  0.        ,  0.        ,  0.        ,\n",
       "        0.        ,  0.        ,  0.        ,  0.        ,  0.        ,\n",
       "        0.        ,  0.        ,  0.        ,  0.        ,  0.        ,\n",
       "        0.        ,  0.        ,  0.        ,  0.        ,  0.        ,\n",
       "        0.        ,  0.        ,  0.        ,  0.        ,  0.        ,\n",
       "        0.        ,  0.        ,  0.        ,  0.        ,  0.        ,\n",
       "        0.        ,  0.        ,  0.        ,  0.        ,  0.        ,\n",
       "        0.        ,  0.        ,  0.        ,  0.        ,  0.        ,\n",
       "        0.        ,  0.        ,  0.        ,  0.        ,  0.        ])"
      ]
     },
     "execution_count": 90,
     "metadata": {},
     "output_type": "execute_result"
    }
   ],
   "source": [
    "moving_avg[0,:]"
   ]
  },
  {
   "cell_type": "code",
   "execution_count": 91,
   "metadata": {
    "collapsed": false
   },
   "outputs": [
    {
     "data": {
      "text/plain": [
       "array([ 0.        ,  0.03333333,  0.03333333,  0.03333333,  0.03333333,\n",
       "        0.03333333,  0.03333333,  0.03333333,  0.03333333,  0.03333333,\n",
       "        0.03333333,  0.03333333,  0.03333333,  0.03333333,  0.03333333,\n",
       "        0.03333333,  0.03333333,  0.03333333,  0.03333333,  0.03333333,\n",
       "        0.03333333,  0.03333333,  0.03333333,  0.03333333,  0.03333333,\n",
       "        0.03333333,  0.03333333,  0.03333333,  0.03333333,  0.03333333,\n",
       "        0.03333333,  0.        ,  0.        ,  0.        ,  0.        ,\n",
       "        0.        ,  0.        ,  0.        ,  0.        ,  0.        ,\n",
       "        0.        ,  0.        ,  0.        ,  0.        ,  0.        ,\n",
       "        0.        ,  0.        ,  0.        ,  0.        ,  0.        ,\n",
       "        0.        ,  0.        ,  0.        ,  0.        ,  0.        ,\n",
       "        0.        ,  0.        ,  0.        ,  0.        ,  0.        ,\n",
       "        0.        ,  0.        ,  0.        ,  0.        ,  0.        ,\n",
       "        0.        ,  0.        ,  0.        ,  0.        ,  0.        ,\n",
       "        0.        ,  0.        ,  0.        ,  0.        ,  0.        ,\n",
       "        0.        ,  0.        ,  0.        ,  0.        ,  0.        ,\n",
       "        0.        ,  0.        ,  0.        ,  0.        ,  0.        ,\n",
       "        0.        ,  0.        ,  0.        ,  0.        ,  0.        ,\n",
       "        0.        ,  0.        ,  0.        ,  0.        ,  0.        ,\n",
       "        0.        ,  0.        ,  0.        ,  0.        ,  0.        ])"
      ]
     },
     "execution_count": 91,
     "metadata": {},
     "output_type": "execute_result"
    }
   ],
   "source": [
    "moving_avg[1,:]"
   ]
  },
  {
   "cell_type": "code",
   "execution_count": 92,
   "metadata": {
    "collapsed": false
   },
   "outputs": [
    {
     "data": {
      "text/plain": [
       "array([ 0.        ,  0.        ,  0.        ,  0.        ,  0.        ,\n",
       "        0.        ,  0.        ,  0.        ,  0.        ,  0.        ,\n",
       "        0.        ,  0.        ,  0.        ,  0.        ,  0.        ,\n",
       "        0.        ,  0.        ,  0.        ,  0.        ,  0.        ,\n",
       "        0.        ,  0.        ,  0.        ,  0.        ,  0.        ,\n",
       "        0.        ,  0.        ,  0.        ,  0.        ,  0.        ,\n",
       "        0.        ,  0.        ,  0.        ,  0.        ,  0.        ,\n",
       "        0.        ,  0.        ,  0.        ,  0.        ,  0.        ,\n",
       "        0.        ,  0.        ,  0.        ,  0.        ,  0.        ,\n",
       "        0.        ,  0.        ,  0.        ,  0.        ,  0.        ,\n",
       "        0.        ,  0.        ,  0.        ,  0.        ,  0.        ,\n",
       "        0.        ,  0.        ,  0.        ,  0.        ,  0.        ,\n",
       "        0.        ,  0.        ,  0.        ,  0.        ,  0.        ,\n",
       "        0.        ,  0.        ,  0.        ,  0.        ,  0.        ,\n",
       "        0.        ,  0.        ,  0.        ,  0.        ,  0.        ,\n",
       "        0.        ,  0.        ,  0.        ,  0.        ,  0.        ,\n",
       "        0.        ,  0.        ,  0.        ,  0.        ,  0.        ,\n",
       "        0.        ,  0.        ,  0.        ,  0.        ,  0.        ,\n",
       "        0.        ,  0.        ,  0.        ,  0.        ,  0.        ,\n",
       "        0.        ,  0.        ,  0.        ,  0.        ,  0.03333333])"
      ]
     },
     "execution_count": 92,
     "metadata": {},
     "output_type": "execute_result"
    }
   ],
   "source": [
    "moving_avg[-1,:]"
   ]
  },
  {
   "cell_type": "code",
   "execution_count": 93,
   "metadata": {
    "collapsed": false
   },
   "outputs": [],
   "source": [
    "x = np.random.randn(d,1)"
   ]
  },
  {
   "cell_type": "code",
   "execution_count": 94,
   "metadata": {
    "collapsed": false
   },
   "outputs": [
    {
     "data": {
      "image/png": "[encoded data removed]",
      "text/plain": [
       "<matplotlib.figure.Figure at 0x130242610>"
      ]
     },
     "metadata": {},
     "output_type": "display_data"
    }
   ],
   "source": [
    "plt.plot(x);"
   ]
  },
  {
   "cell_type": "code",
   "execution_count": 95,
   "metadata": {
    "collapsed": false
   },
   "outputs": [
    {
     "data": {
      "image/png": "[encoded data removed]",
      "text/plain": [
       "<matplotlib.figure.Figure at 0x11a69ead0>"
      ]
     },
     "metadata": {},
     "output_type": "display_data"
    }
   ],
   "source": [
    "y = np.dot(moving_avg, x)\n",
    "plt.plot(y);"
   ]
  },
  {
   "cell_type": "markdown",
   "metadata": {},
   "source": [
    "## Predicting listing price"
   ]
  },
  {
   "cell_type": "code",
   "execution_count": 97,
   "metadata": {
    "collapsed": false
   },
   "outputs": [
    {
     "data": {
      "image/png": "[encoded data removed]",
      "text/plain": [
       "<matplotlib.figure.Figure at 0x1305cb390>"
      ]
     },
     "metadata": {},
     "output_type": "display_data"
    }
   ],
   "source": [
    "y = np.array(df_clean.price)\n",
    "A = np.array(df_clean.iloc[:,:-1])\n",
    "\n",
    "weights = np.dot(np.linalg.pinv(A),np.log10(y))\n",
    "\n",
    "y_hat = np.dot(A,weights)\n",
    "\n",
    "plt.plot(range(y_hat.shape[0]), np.abs(10**y_hat - y), '.');"
   ]
  },
  {
   "cell_type": "code",
   "execution_count": 98,
   "metadata": {
    "collapsed": false
   },
   "outputs": [
    {
     "data": {
      "text/plain": [
       "[<matplotlib.lines.Line2D at 0x119ce7b90>]"
      ]
     },
     "execution_count": 98,
     "metadata": {},
     "output_type": "execute_result"
    },
    {
     "data": {
      "image/png": "[encoded data removed]",
      "text/plain": [
       "<matplotlib.figure.Figure at 0x11827bb90>"
      ]
     },
     "metadata": {},
     "output_type": "display_data"
    }
   ],
   "source": [
    "A_mini = A[np.abs(10**y_hat - y) < 100,:]\n",
    "y_mini = y[np.abs(10**y_hat - y) < 100]\n",
    "weights_mini = np.dot(np.linalg.pinv(A_mini),np.log10(y_mini))\n",
    "y_hat_mini = np.dot(A_mini, weights_mini)\n",
    "plt.plot(range(y_hat_mini.shape[0]), 10**y_hat_mini - y_mini, '.')\n"
   ]
  },
  {
   "cell_type": "code",
   "execution_count": 99,
   "metadata": {
    "collapsed": false
   },
   "outputs": [
    {
     "data": {
      "text/plain": [
       "[<matplotlib.lines.Line2D at 0x11a033e90>]"
      ]
     },
     "execution_count": 99,
     "metadata": {},
     "output_type": "execute_result"
    },
    {
     "data": {
      "image/png": "[encoded data removed]",
      "text/plain": [
       "<matplotlib.figure.Figure at 0x12e6928d0>"
      ]
     },
     "metadata": {},
     "output_type": "display_data"
    }
   ],
   "source": [
    "np.mean(10**y_hat_mini - y_mini)\n",
    "plt.plot(weights_mini)"
   ]
  },
  {
   "cell_type": "code",
   "execution_count": 101,
   "metadata": {
    "collapsed": false
   },
   "outputs": [
    {
     "data": {
      "text/plain": [
       "135.0"
      ]
     },
     "execution_count": 101,
     "metadata": {},
     "output_type": "execute_result"
    }
   ],
   "source": [
    "np.median(df_clean.price)"
   ]
  },
  {
   "cell_type": "markdown",
   "metadata": {},
   "source": [
    "## Bootstrap estimation\n",
    "\n",
    "We often would like to know what is the uncertainty when we take measurements or estimate parameters. This is because whenever we take measurement (be it using hardware such as sensors or any other method) there is *noise* or errors introduced into the process. \n",
    "\n",
    "The bootstrap procedure is a way to get *confidence intervals* that give you a sense of the robustness of the process.\n",
    "\n",
    "\n"
   ]
  },
  {
   "cell_type": "code",
   "execution_count": 123,
   "metadata": {
    "collapsed": false
   },
   "outputs": [
    {
     "data": {
      "text/html": [
       "<img src=\"./imgs/lecture-3/bootstrap-sample.png\" alt=\"Drawing\" style=\"width: 600px;\"/, align = \"left\">"
      ],
      "text/plain": [
       "<IPython.core.display.HTML object>"
      ]
     },
     "metadata": {},
     "output_type": "display_data"
    }
   ],
   "source": [
    "display(HTML('''<img src=\"./imgs/lecture-3/bootstrap-sample.png\" alt=\"Drawing\" style=\"width: 600px;\"/, align = \"left\">'''))"
   ]
  },
  {
   "cell_type": "code",
   "execution_count": 124,
   "metadata": {
    "collapsed": false
   },
   "outputs": [
    {
     "data": {
      "text/html": [
       "<img src=\"./imgs/lecture-3/boot-600x713.png\" alt=\"Drawing\" style=\"width: 600px;\"/, align = \"left\">"
      ],
      "text/plain": [
       "<IPython.core.display.HTML object>"
      ]
     },
     "metadata": {},
     "output_type": "display_data"
    }
   ],
   "source": [
    "display(HTML('''<img src=\"./imgs/lecture-3/boot-600x713.png\" alt=\"Drawing\" style=\"width: 600px;\"/, align = \"left\">'''))"
   ]
  },
  {
   "cell_type": "markdown",
   "metadata": {},
   "source": [
    "## How many M&M's are in a jar?\n",
    "\n",
    "A fun problem is to ask a group of people to guess the number of M&M's in a jar (without opening the jar!) to win an attractive prize. You cannot touch the jar, or weigh it, but just look at it. However, you are free to go to the store and purchase a bag of M&M's, similar looking jars, or anything else that you like.\n",
    "\n"
   ]
  },
  {
   "cell_type": "code",
   "execution_count": 128,
   "metadata": {
    "collapsed": false
   },
   "outputs": [
    {
     "data": {
      "text/html": [
       "<img src=\"./imgs/lecture-3/mms.jpg\" alt=\"Drawing\" style=\"width: 200px;\"/, align = \"left\">"
      ],
      "text/plain": [
       "<IPython.core.display.HTML object>"
      ]
     },
     "metadata": {},
     "output_type": "display_data"
    }
   ],
   "source": [
    "display(HTML('''<img src=\"./imgs/lecture-3/mms.jpg\" alt=\"Drawing\" style=\"width: 200px;\"/, align = \"left\">'''))"
   ]
  },
  {
   "cell_type": "markdown",
   "metadata": {},
   "source": [
    "# Exercise 5\n",
    "\n",
    "Compute the boostrapped error estimate for the AirBnB example above. "
   ]
  },
  {
   "cell_type": "markdown",
   "metadata": {},
   "source": [
    "# The determinants of a matrix\n",
    "\n",
    "The intuition behind the determinant of a matrix is that it is a function that computes the \"area of the parallelogram\" constructed by the rows/columns of a square matrix. \n",
    "\n",
    "\n",
    "$det(A) = \\left|A\\right| = \\begin{vmatrix}\n",
    "a & b\\\\ \n",
    "c & d\n",
    "\\end{vmatrix} = ad - bc$\n",
    "\n"
   ]
  },
  {
   "cell_type": "code",
   "execution_count": 130,
   "metadata": {
    "collapsed": false
   },
   "outputs": [
    {
     "data": {
      "text/html": [
       "<img src=\"./imgs/lecture-3/det-matrix.png\" alt=\"Drawing\" style=\"width: 300px;\"/, align = \"left\">"
      ],
      "text/plain": [
       "<IPython.core.display.HTML object>"
      ]
     },
     "metadata": {},
     "output_type": "display_data"
    }
   ],
   "source": [
    "display(HTML('''<img src=\"./imgs/lecture-3/det-matrix.png\" alt=\"Drawing\" style=\"width: 300px;\"/, align = \"left\">'''))"
   ]
  },
  {
   "cell_type": "markdown",
   "metadata": {},
   "source": [
    "- For $A \\in \\mathbb{R}^{n\\times n}$, $\\left|A\\right| = \\left|A^{T}\\right|$.\n",
    "- For $A,B \\in \\mathbb{R}^{n\\times n}$, $\\left|AB\\right| = \\left|A\\right|\\left|B\\right|$.\n",
    "- For $A \\in \\mathbb{R}^{n\\times n}$, $\\left|A\\right| = 0$ if and only if $A$ is singular (i.e. non-invertible). (If $A$ is singular then it does not have full rank, and hence its columns are linearly dependent. In this case, the set $S$ corresponds to a ``flat sheet'' within the $n$-dimensional space and hence has zero volume.)\n",
    "- For $A \\in \\mathbb{R}^{n\\times n}$ and $A$ non-singular, $\\left|A^{-1}\\right| = 1/\\left|A\\right|$."
   ]
  },
  {
   "cell_type": "markdown",
   "metadata": {},
   "source": [
    "# Eigenvalues and eigenvectors\n",
    "\n",
    "Square matrices like $A \\in \\mathbb{R}^{n\\times n}$ are very special in that they transform inputs from $x \\in \\mathbb{R}^{n}$ to $y \\in \\mathbb{R}^{n}$. \n",
    "\n",
    "- $y = Ax$\n",
    "\n",
    "Of course, in general $y \\neq x$. That is, the linear transformation matrix $A$ does not *preserve* the input $v$. But we may find some special inputs $v$ so that the output is just a scaled version of the input: $y = \\lambda v$ where $\\lambda$ is just a scalar (and not necessarily a real number). \n",
    "\n",
    "A (non-zero) vector $v$ of dimension $n$ is an **eigenvector** of a square ($n \\times n$) matrix $A$ if it satisfies the linear equation\n",
    "\n",
    "- $Av = \\lambda v$\n",
    "\n",
    "\n",
    "where $\\lambda$ is a scalar, termed the **eigenvalue** corresponding to $v$. That is, the eigenvectors are the vectors that the linear transformation $A$ merely elongates or shrinks, and the amount that they elongate/shrink by is the eigenvalue. The above equation is called the **eigenvalue equation** or the eigenvalue problem.\n",
    "\n",
    "This yields an equation for the eigenvalues\n",
    "\n",
    "- $p\\left(\\lambda\\right) = \\det \\left(A - \\lambda \\mathbf{I}\\right) = 0$\n",
    "\n",
    "\n",
    "We call $p\\left(\\lambda\\right)$ the **characteristic polynomial**, and the equation, called the **characteristic equation**, is an $n$th order polynomial equation in the unknown $\\lambda$. This equation will have $n_\\lambda$ distinct solutions, where $1 \\leq n_\\lambda \\leq n$ . The set of solutions, that is, the eigenvalues, is called the **spectrum** of $A$.\n",
    "\n",
    "\n",
    "\n",
    "## Eigendecomposition of a matrix\n",
    "\n",
    "Let $A$ be a square $n \\times n$ matrix with n linearly independent eigenvectors, $q_i$ $( i = 1 , \\ldots , n )$. Then $A$ can be factorized as\n",
    "\n",
    "- $A = Q\\Lambda Q^{-1}$\n",
    "\n",
    "\n",
    "\n",
    "\n",
    "where $\\mathbf{Q}$ is the square ($n \\times n$) matrix whose $i^{th}$ column is the *normalized* eigenvector $q_i$ of $\\mathbf{A}$ and $\\mathbf{\\Lambda}$ is the diagonal matrix whose diagonal elements are the corresponding eigenvalues, i.e., $\\Lambda_{ii}=\\lambda _{i}$. \n",
    "\n",
    "\n",
    "\n",
    "The eigenvectors $q_{i}\\,\\,(i=1,\\dots ,N)$ are usually normalized, but they need not be. A non-normalized set of eigenvectors, $v_{i}\\,\\,(i=1,\\dots ,N)$, can also be used as the columns of $\\mathbf{Q}$. That can be understood by noting that the magnitude of the eigenvectors in $\\mathbf{Q}$ gets canceled in the decomposition by the presence of $\\mathbf{Q^{−1}}$.\n",
    "\n",
    "\n",
    "\n",
    "The decomposition can be derived from the fundamental property of eigenvectors: $\\mathbf{A}\\mathbf{v} =\\lambda \\mathbf{v}$ and thus $\\mathbf{A}\\mathbf {Q} =\\mathbf{Q}\\mathbf{\\Lambda}$ which yields $\\mathbf{A} =\\mathbf{Q}\\mathbf{\\Lambda }\\mathbf{Q}^{-1}$."
   ]
  },
  {
   "cell_type": "markdown",
   "metadata": {},
   "source": [
    "# Quadratic forms\n",
    "\n",
    "For $x \\in \\mathbb{R}^n$ and $A \\in \\mathbb{R}^{n\\times n}$, functions of the type $f(x) = x^{T}Ax$ are called **quadratic forms** .\n",
    "\n",
    "\n",
    "\n",
    "\n",
    "\n",
    "In general, for a given a square matrix $A \\in \\mathbb{R}^{n\\times n}$ and a vector $x \\in \\mathbb{R}^{n}$, we can write the quadratic form sa the the scalar value $x^{T}Ax$. Written explicitly, we see that\n",
    "\n",
    "$\n",
    "x^{T}Ax = \\sum^{n}_{i=1}{x_{i}{\\left(Ax\\right)}_i} = \\sum^{n}_{i=1}{x_{i}}\\Bigg(\\sum^{n}_{j=1}{A_{ij}x_{j}}\\Bigg) = \\sum^{n}_{i=1} \\sum^{n}_{i=1}{A_{ij}x_{i}x_{j}}\n",
    "$\n",
    "\n",
    "Note that,\n",
    "$\n",
    "x^{T}Ax ={\\left(x^{T}Ax\\right)}^{T} = x^{T}A^{T}x = x^{T}\\Bigg(\\dfrac{1}{2}A + \\dfrac{1}{2}A^{T}\\Bigg)x\n",
    "$ \n",
    "\n",
    "\n",
    "For example, for $x \\in \\mathbb{R}^2$ we can write:\n",
    "\n",
    "$f(x_1, x_2) = ax_{1}^2 + (b + c)x_{1}x_{2}+ dx_{2}^2 $  \n",
    "\n"
   ]
  },
  {
   "cell_type": "code",
   "execution_count": 132,
   "metadata": {
    "collapsed": false
   },
   "outputs": [
    {
     "data": {
      "text/html": [
       "<img src=\"./imgs/lecture-3/definiteness.png\" alt=\"Drawing\" style=\"width:600px;\"/, align = \"left\">"
      ],
      "text/plain": [
       "<IPython.core.display.HTML object>"
      ]
     },
     "metadata": {},
     "output_type": "display_data"
    }
   ],
   "source": [
    "display(HTML('''<img src=\"./imgs/lecture-3/definiteness.png\" alt=\"Drawing\" style=\"width:600px;\"/, align = \"left\">'''))"
   ]
  },
  {
   "cell_type": "markdown",
   "metadata": {},
   "source": [
    "# The Gradient\n",
    "Suppose that $f:\\mathbb{R}^{m\\times n} \\rightarrow \\mathbb{R}$ is a function that takes as input a matrix $A$ of size $m\\times n$ and returns a real value. Then the **gradient** of $f$ (with respect to $A \\in \\mathbb{R}^{m\\times n}$) is the matrix of partial derivatives, defined as:\n",
    "\n",
    "$\n",
    "\\nabla_{A}f\\left(A\\right) \\in \\mathbb{R}^{m\\times n} = \\begin{bmatrix}\n",
    "\\dfrac{\\partial f\\left(A\\right)}{\\partial A_{11}} & \\dfrac{\\partial f\\left(A\\right)}{\\partial A_{12}} & \\cdots & \\dfrac{\\partial f\\left(A\\right)}{\\partial A_{1n}}\\\\[10pt]\n",
    "\\dfrac{\\partial f\\left(A\\right)}{\\partial A_{21}} & \\dfrac{\\partial f\\left(A\\right)}{\\partial A_{22}} & \\cdots & \\dfrac{\\partial f\\left(A\\right)}{\\partial A_{2n}}\\\\[10pt]\n",
    "\\vdots & \\vdots & \\ddots & \\vdots\\\\[10pt]\n",
    "\\dfrac{\\partial f\\left(A\\right)}{\\partial A_{m1}} & \\dfrac{\\partial f\\left(A\\right)}{\\partial A_{m2}} & \\cdots & \\dfrac{\\partial f\\left(A\\right)}{\\partial A_{mn}}\n",
    "\\end{bmatrix}\n",
    "$\n",
    "\n",
    "i.e., an $m\\times n$ matrix with\n",
    "$\n",
    "\\left(\\nabla_{A}f\\left(A\\right)\\right)_{ij} = \\dfrac{\\partial f\\left(A\\right)}{\\partial A_{ij}}.\n",
    "$\n",
    "\n",
    "Note that the size of $\\nabla_{A}f\\left(A\\right)$ is always the same as the size of $A$. \n",
    "\n",
    "So if, in particular, $A$ is just a vector $x \\in \\mathbb{R}^{n}$\n",
    "$\n",
    "\\nabla_{x}f\\left(x\\right) = \\begin{bmatrix} \n",
    "\\dfrac{\\partial f\\left(x\\right)}{\\partial x_{1}}\\\\[10pt]\n",
    "\\dfrac{\\partial f\\left(x\\right)}{\\partial x_{2}}\\\\[10pt]\n",
    "\\vdots \\\\[10pt]\n",
    "\\dfrac{\\partial f\\left(x\\right)}{\\partial x_{n}}\n",
    "\\end{bmatrix}\n",
    "$"
   ]
  },
  {
   "cell_type": "markdown",
   "metadata": {},
   "source": [
    "# The Hessian \n",
    "\n",
    "\n",
    "Suppose that $f:\\mathbb{R}^{n}\\rightarrow \\mathbb{R}$ is a function that takes a vector in $\\mathbb{R}^{n}$ and returns a real number. The the **Hessian** matrix with respect to $x$, written $\\nabla^{2}_{x}f\\left(x\\right)$ or simply as $H$ is the $n\\times n$ matrix of partial derivatives,\n",
    "\n",
    "$\n",
    "\\nabla^{2}_{x}f\\left(x\\right) \\in \\mathbb{R}^{n\\times n} = \\begin{bmatrix}\n",
    "\\dfrac{\\partial^{2}f\\left(x\\right)}{\\partial x^{2}_{1}} & \\dfrac{\\partial^{2}f\\left(x\\right)}{\\partial x_{1}\\partial x_{2}} & \\cdots & \\dfrac{\\partial^{2}f\\left(x\\right)}{\\partial x_{1}\\partial x_{n}}\\\\[10pt]\n",
    "\\dfrac{\\partial^{2}f\\left(x\\right)}{\\partial x_{2}\\partial x_{1}} & \\dfrac{\\partial^{2}f\\left(x\\right)}{\\partial x^{2}_{2}} & \\cdots & \\dfrac{\\partial^{2}f\\left(x\\right)}{\\partial x_{2}\\partial x_{n}}\\\\[10pt]\n",
    "\\vdots & \\vdots & \\ddots & \\vdots \\\\[10pt]\n",
    "\\dfrac{\\partial^{2}f\\left(x\\right)}{\\partial x_{n}\\partial x_{1}} & \\dfrac{\\partial^{2}f\\left(x\\right)}{\\partial x_{n}\\partial x_{2}} & \\cdots & \\dfrac{\\partial^{2}f\\left(x\\right)}{\\partial x^{2}_{n}}\\\\[10pt]\n",
    "\\end{bmatrix}\n",
    "$\n",
    "\n",
    "In other words, $\\nabla^{2}_{x}f\\left(x\\right) \\in \\mathbb{R}^{n\\times n}$, with\n",
    "\n",
    "$\n",
    "{\\left(\\nabla^{2}_{x}f\\left(x\\right)\\right)}_{ij} = \\dfrac{\\partial^{2}f\\left(x\\right)}{\\partial x_{i}\\partial x_{j}}.\n",
    "$\n",
    "\n",
    "Note that the Hessian is always symmetric, since\n",
    "\n",
    "$\n",
    "\\dfrac{\\partial^{2}f\\left(x\\right)}{\\partial x_{i}\\partial x_{j}} = \\dfrac{\\partial^{2}f\\left(x\\right)}{\\partial x_{j}\\partial x_{i}}.\n",
    "$\n",
    "\n",
    "\n",
    "## Important Gradients and Hessians\n",
    "\n",
    "For For $x, b \\in \\mathbb{R}^n$ and $A \\in \\mathbb{R}^{n\\times n}$\n",
    "\n",
    "- $\\nabla_{x}b^{T}x = b$\n",
    "- $\\nabla_{x}x^{T}Ax = 2Ax$ (if $A$ symmetric)\n",
    "- $\\nabla^{2}_{x}x^{T}Ax = 2A$ (if $A$ symmetric)\n",
    "\n",
    "\n"
   ]
  }
 ],
 "metadata": {
  "kernelspec": {
   "display_name": "Python 2",
   "language": "python",
   "name": "python2"
  },
  "language_info": {
   "codemirror_mode": {
    "name": "ipython",
    "version": 2
   },
   "file_extension": ".py",
   "mimetype": "text/x-python",
   "name": "python",
   "nbconvert_exporter": "python",
   "pygments_lexer": "ipython2",
   "version": "2.7.12"
  }
 },
 "nbformat": 4,
 "nbformat_minor": 0
}
